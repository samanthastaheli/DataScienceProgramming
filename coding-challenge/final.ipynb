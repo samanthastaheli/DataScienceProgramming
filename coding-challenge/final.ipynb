{
 "cells": [
  {
   "cell_type": "code",
   "execution_count": 1,
   "metadata": {},
   "outputs": [],
   "source": [
    "import pandas as pd\n",
    "import altair as alt\n",
    "import numpy as np\n",
    "\n",
    "from sklearn.model_selection import train_test_split\n",
    "from sklearn.ensemble import RandomForestClassifier\n",
    "from sklearn import metrics"
   ]
  },
  {
   "cell_type": "code",
   "execution_count": 2,
   "metadata": {},
   "outputs": [],
   "source": [
    "url_names = 'https://github.com/byuidatascience/data4names/raw/master/data-raw/names_year/names_year.csv'\n",
    "\n",
    "dat_names = pd.read_csv(url_names)"
   ]
  },
  {
   "cell_type": "markdown",
   "metadata": {},
   "source": [
    "### Challenge 1"
   ]
  },
  {
   "cell_type": "code",
   "execution_count": 7,
   "metadata": {},
   "outputs": [
    {
     "data": {
      "text/html": [
       "<div>\n",
       "<style scoped>\n",
       "    .dataframe tbody tr th:only-of-type {\n",
       "        vertical-align: middle;\n",
       "    }\n",
       "\n",
       "    .dataframe tbody tr th {\n",
       "        vertical-align: top;\n",
       "    }\n",
       "\n",
       "    .dataframe thead th {\n",
       "        text-align: right;\n",
       "    }\n",
       "</style>\n",
       "<table border=\"1\" class=\"dataframe\">\n",
       "  <thead>\n",
       "    <tr style=\"text-align: right;\">\n",
       "      <th></th>\n",
       "    </tr>\n",
       "  </thead>\n",
       "  <tbody>\n",
       "    <tr>\n",
       "      <th>23525</th>\n",
       "    </tr>\n",
       "    <tr>\n",
       "      <th>23526</th>\n",
       "    </tr>\n",
       "    <tr>\n",
       "      <th>23527</th>\n",
       "    </tr>\n",
       "    <tr>\n",
       "      <th>23528</th>\n",
       "    </tr>\n",
       "    <tr>\n",
       "      <th>23529</th>\n",
       "    </tr>\n",
       "    <tr>\n",
       "      <th>...</th>\n",
       "    </tr>\n",
       "    <tr>\n",
       "      <th>23626</th>\n",
       "    </tr>\n",
       "    <tr>\n",
       "      <th>23627</th>\n",
       "    </tr>\n",
       "    <tr>\n",
       "      <th>23628</th>\n",
       "    </tr>\n",
       "    <tr>\n",
       "      <th>23629</th>\n",
       "    </tr>\n",
       "    <tr>\n",
       "      <th>23630</th>\n",
       "    </tr>\n",
       "  </tbody>\n",
       "</table>\n",
       "<p>106 rows × 0 columns</p>\n",
       "</div>"
      ],
      "text/plain": [
       "Empty DataFrame\n",
       "Columns: []\n",
       "Index: [23525, 23526, 23527, 23528, 23529, 23530, 23531, 23532, 23533, 23534, 23535, 23536, 23537, 23538, 23539, 23540, 23541, 23542, 23543, 23544, 23545, 23546, 23547, 23548, 23549, 23550, 23551, 23552, 23553, 23554, 23555, 23556, 23557, 23558, 23559, 23560, 23561, 23562, 23563, 23564, 23565, 23566, 23567, 23568, 23569, 23570, 23571, 23572, 23573, 23574, 23575, 23576, 23577, 23578, 23579, 23580, 23581, 23582, 23583, 23584, 23585, 23586, 23587, 23588, 23589, 23590, 23591, 23592, 23593, 23594, 23595, 23596, 23597, 23598, 23599, 23600, 23601, 23602, 23603, 23604, 23605, 23606, 23607, 23608, 23609, 23610, 23611, 23612, 23613, 23614, 23615, 23616, 23617, 23618, 23619, 23620, 23621, 23622, 23623, 23624, ...]\n",
       "\n",
       "[106 rows x 0 columns]"
      ]
     },
     "execution_count": 7,
     "metadata": {},
     "output_type": "execute_result"
    }
   ],
   "source": [
    "ann = dat_names.query('name == \"Ann\"')\n",
    "# print(ann)\n",
    "# ann.filter('name, year, AZ')"
   ]
  },
  {
   "cell_type": "code",
   "execution_count": 14,
   "metadata": {},
   "outputs": [
    {
     "data": {
      "text/html": [
       "<div>\n",
       "<style scoped>\n",
       "    .dataframe tbody tr th:only-of-type {\n",
       "        vertical-align: middle;\n",
       "    }\n",
       "\n",
       "    .dataframe tbody tr th {\n",
       "        vertical-align: top;\n",
       "    }\n",
       "\n",
       "    .dataframe thead th {\n",
       "        text-align: right;\n",
       "    }\n",
       "</style>\n",
       "<table border=\"1\" class=\"dataframe\">\n",
       "  <thead>\n",
       "    <tr style=\"text-align: right;\">\n",
       "      <th></th>\n",
       "      <th>year</th>\n",
       "      <th>az_total</th>\n",
       "    </tr>\n",
       "  </thead>\n",
       "  <tbody>\n",
       "    <tr>\n",
       "      <th>0</th>\n",
       "      <td>1910</td>\n",
       "      <td>0.0</td>\n",
       "    </tr>\n",
       "    <tr>\n",
       "      <th>1</th>\n",
       "      <td>1911</td>\n",
       "      <td>0.0</td>\n",
       "    </tr>\n",
       "    <tr>\n",
       "      <th>2</th>\n",
       "      <td>1912</td>\n",
       "      <td>0.0</td>\n",
       "    </tr>\n",
       "    <tr>\n",
       "      <th>3</th>\n",
       "      <td>1913</td>\n",
       "      <td>6.0</td>\n",
       "    </tr>\n",
       "    <tr>\n",
       "      <th>4</th>\n",
       "      <td>1914</td>\n",
       "      <td>6.0</td>\n",
       "    </tr>\n",
       "    <tr>\n",
       "      <th>...</th>\n",
       "      <td>...</td>\n",
       "      <td>...</td>\n",
       "    </tr>\n",
       "    <tr>\n",
       "      <th>101</th>\n",
       "      <td>2011</td>\n",
       "      <td>0.0</td>\n",
       "    </tr>\n",
       "    <tr>\n",
       "      <th>102</th>\n",
       "      <td>2012</td>\n",
       "      <td>0.0</td>\n",
       "    </tr>\n",
       "    <tr>\n",
       "      <th>103</th>\n",
       "      <td>2013</td>\n",
       "      <td>0.0</td>\n",
       "    </tr>\n",
       "    <tr>\n",
       "      <th>104</th>\n",
       "      <td>2014</td>\n",
       "      <td>0.0</td>\n",
       "    </tr>\n",
       "    <tr>\n",
       "      <th>105</th>\n",
       "      <td>2015</td>\n",
       "      <td>0.0</td>\n",
       "    </tr>\n",
       "  </tbody>\n",
       "</table>\n",
       "<p>106 rows × 2 columns</p>\n",
       "</div>"
      ],
      "text/plain": [
       "     year  az_total\n",
       "0    1910       0.0\n",
       "1    1911       0.0\n",
       "2    1912       0.0\n",
       "3    1913       6.0\n",
       "4    1914       6.0\n",
       "..    ...       ...\n",
       "101  2011       0.0\n",
       "102  2012       0.0\n",
       "103  2013       0.0\n",
       "104  2014       0.0\n",
       "105  2015       0.0\n",
       "\n",
       "[106 rows x 2 columns]"
      ]
     },
     "execution_count": 14,
     "metadata": {},
     "output_type": "execute_result"
    }
   ],
   "source": [
    "ann_az = (ann\n",
    ".groupby('year')\n",
    ".agg(az_total = ('AZ', sum)\n",
    ")\n",
    "# .assign(another_column_can_make = lambda x: function goes here)\n",
    ".reset_index()\n",
    ")\n",
    "ann_az"
   ]
  },
  {
   "cell_type": "code",
   "execution_count": 13,
   "metadata": {},
   "outputs": [
    {
     "data": {
      "text/html": [
       "<div>\n",
       "<style scoped>\n",
       "    .dataframe tbody tr th:only-of-type {\n",
       "        vertical-align: middle;\n",
       "    }\n",
       "\n",
       "    .dataframe tbody tr th {\n",
       "        vertical-align: top;\n",
       "    }\n",
       "\n",
       "    .dataframe thead th {\n",
       "        text-align: right;\n",
       "    }\n",
       "</style>\n",
       "<table border=\"1\" class=\"dataframe\">\n",
       "  <thead>\n",
       "    <tr style=\"text-align: right;\">\n",
       "      <th></th>\n",
       "      <th>year</th>\n",
       "      <th>co_total</th>\n",
       "    </tr>\n",
       "  </thead>\n",
       "  <tbody>\n",
       "    <tr>\n",
       "      <th>0</th>\n",
       "      <td>1910</td>\n",
       "      <td>25.0</td>\n",
       "    </tr>\n",
       "    <tr>\n",
       "      <th>1</th>\n",
       "      <td>1911</td>\n",
       "      <td>19.0</td>\n",
       "    </tr>\n",
       "    <tr>\n",
       "      <th>2</th>\n",
       "      <td>1912</td>\n",
       "      <td>31.0</td>\n",
       "    </tr>\n",
       "    <tr>\n",
       "      <th>3</th>\n",
       "      <td>1913</td>\n",
       "      <td>27.0</td>\n",
       "    </tr>\n",
       "    <tr>\n",
       "      <th>4</th>\n",
       "      <td>1914</td>\n",
       "      <td>30.0</td>\n",
       "    </tr>\n",
       "    <tr>\n",
       "      <th>...</th>\n",
       "      <td>...</td>\n",
       "      <td>...</td>\n",
       "    </tr>\n",
       "    <tr>\n",
       "      <th>101</th>\n",
       "      <td>2011</td>\n",
       "      <td>0.0</td>\n",
       "    </tr>\n",
       "    <tr>\n",
       "      <th>102</th>\n",
       "      <td>2012</td>\n",
       "      <td>0.0</td>\n",
       "    </tr>\n",
       "    <tr>\n",
       "      <th>103</th>\n",
       "      <td>2013</td>\n",
       "      <td>0.0</td>\n",
       "    </tr>\n",
       "    <tr>\n",
       "      <th>104</th>\n",
       "      <td>2014</td>\n",
       "      <td>5.0</td>\n",
       "    </tr>\n",
       "    <tr>\n",
       "      <th>105</th>\n",
       "      <td>2015</td>\n",
       "      <td>6.0</td>\n",
       "    </tr>\n",
       "  </tbody>\n",
       "</table>\n",
       "<p>106 rows × 2 columns</p>\n",
       "</div>"
      ],
      "text/plain": [
       "     year  co_total\n",
       "0    1910      25.0\n",
       "1    1911      19.0\n",
       "2    1912      31.0\n",
       "3    1913      27.0\n",
       "4    1914      30.0\n",
       "..    ...       ...\n",
       "101  2011       0.0\n",
       "102  2012       0.0\n",
       "103  2013       0.0\n",
       "104  2014       5.0\n",
       "105  2015       6.0\n",
       "\n",
       "[106 rows x 2 columns]"
      ]
     },
     "execution_count": 13,
     "metadata": {},
     "output_type": "execute_result"
    }
   ],
   "source": [
    "ann_co = (ann\n",
    ".groupby('year')\n",
    ".agg(co_total = ('CO', sum)\n",
    ")\n",
    "# .assign(another_column_can_make = lambda x: function goes here)\n",
    ".reset_index()\n",
    ")\n",
    "ann_co"
   ]
  },
  {
   "cell_type": "code",
   "execution_count": 17,
   "metadata": {},
   "outputs": [
    {
     "data": {
      "text/html": [
       "\n",
       "<div id=\"altair-viz-a5faf39be2f24d97a4710941663484ca\"></div>\n",
       "<script type=\"text/javascript\">\n",
       "  (function(spec, embedOpt){\n",
       "    let outputDiv = document.currentScript.previousElementSibling;\n",
       "    if (outputDiv.id !== \"altair-viz-a5faf39be2f24d97a4710941663484ca\") {\n",
       "      outputDiv = document.getElementById(\"altair-viz-a5faf39be2f24d97a4710941663484ca\");\n",
       "    }\n",
       "    const paths = {\n",
       "      \"vega\": \"https://cdn.jsdelivr.net/npm//vega@5?noext\",\n",
       "      \"vega-lib\": \"https://cdn.jsdelivr.net/npm//vega-lib?noext\",\n",
       "      \"vega-lite\": \"https://cdn.jsdelivr.net/npm//vega-lite@4.8.1?noext\",\n",
       "      \"vega-embed\": \"https://cdn.jsdelivr.net/npm//vega-embed@6?noext\",\n",
       "    };\n",
       "\n",
       "    function loadScript(lib) {\n",
       "      return new Promise(function(resolve, reject) {\n",
       "        var s = document.createElement('script');\n",
       "        s.src = paths[lib];\n",
       "        s.async = true;\n",
       "        s.onload = () => resolve(paths[lib]);\n",
       "        s.onerror = () => reject(`Error loading script: ${paths[lib]}`);\n",
       "        document.getElementsByTagName(\"head\")[0].appendChild(s);\n",
       "      });\n",
       "    }\n",
       "\n",
       "    function showError(err) {\n",
       "      outputDiv.innerHTML = `<div class=\"error\" style=\"color:red;\">${err}</div>`;\n",
       "      throw err;\n",
       "    }\n",
       "\n",
       "    function displayChart(vegaEmbed) {\n",
       "      vegaEmbed(outputDiv, spec, embedOpt)\n",
       "        .catch(err => showError(`Javascript Error: ${err.message}<br>This usually means there's a typo in your chart specification. See the javascript console for the full traceback.`));\n",
       "    }\n",
       "\n",
       "    if(typeof define === \"function\" && define.amd) {\n",
       "      requirejs.config({paths});\n",
       "      require([\"vega-embed\"], displayChart, err => showError(`Error loading script: ${err.message}`));\n",
       "    } else if (typeof vegaEmbed === \"function\") {\n",
       "      displayChart(vegaEmbed);\n",
       "    } else {\n",
       "      loadScript(\"vega\")\n",
       "        .then(() => loadScript(\"vega-lite\"))\n",
       "        .then(() => loadScript(\"vega-embed\"))\n",
       "        .catch(showError)\n",
       "        .then(() => displayChart(vegaEmbed));\n",
       "    }\n",
       "  })({\"config\": {\"view\": {\"continuousWidth\": 400, \"continuousHeight\": 300}}, \"data\": {\"name\": \"data-899eee88d6e8425c6e1763e24ff9d4aa\"}, \"mark\": {\"type\": \"line\", \"color\": \"orange\"}, \"encoding\": {\"x\": {\"type\": \"quantitative\", \"axis\": {\"format\": \"d\", \"title\": \"Year\"}, \"field\": \"year\"}, \"y\": {\"type\": \"quantitative\", \"axis\": {\"title\": \"Count of Ann\"}, \"field\": \"az_total\"}}, \"height\": 150, \"title\": {\"text\": \"The history of Ann in Colorado (blue) and Arizona (orange)\"}, \"width\": 500, \"$schema\": \"https://vega.github.io/schema/vega-lite/v4.8.1.json\", \"datasets\": {\"data-899eee88d6e8425c6e1763e24ff9d4aa\": [{\"year\": 1910, \"az_total\": 0.0}, {\"year\": 1911, \"az_total\": 0.0}, {\"year\": 1912, \"az_total\": 0.0}, {\"year\": 1913, \"az_total\": 6.0}, {\"year\": 1914, \"az_total\": 6.0}, {\"year\": 1915, \"az_total\": 10.0}, {\"year\": 1916, \"az_total\": 9.0}, {\"year\": 1917, \"az_total\": 8.0}, {\"year\": 1918, \"az_total\": 8.0}, {\"year\": 1919, \"az_total\": 8.0}, {\"year\": 1920, \"az_total\": 10.0}, {\"year\": 1921, \"az_total\": 8.0}, {\"year\": 1922, \"az_total\": 10.0}, {\"year\": 1923, \"az_total\": 5.0}, {\"year\": 1924, \"az_total\": 9.0}, {\"year\": 1925, \"az_total\": 5.0}, {\"year\": 1926, \"az_total\": 10.0}, {\"year\": 1927, \"az_total\": 12.0}, {\"year\": 1928, \"az_total\": 5.0}, {\"year\": 1929, \"az_total\": 15.0}, {\"year\": 1930, \"az_total\": 15.0}, {\"year\": 1931, \"az_total\": 16.0}, {\"year\": 1932, \"az_total\": 17.0}, {\"year\": 1933, \"az_total\": 16.0}, {\"year\": 1934, \"az_total\": 18.0}, {\"year\": 1935, \"az_total\": 18.0}, {\"year\": 1936, \"az_total\": 15.0}, {\"year\": 1937, \"az_total\": 16.0}, {\"year\": 1938, \"az_total\": 12.0}, {\"year\": 1939, \"az_total\": 23.0}, {\"year\": 1940, \"az_total\": 19.0}, {\"year\": 1941, \"az_total\": 25.0}, {\"year\": 1942, \"az_total\": 22.0}, {\"year\": 1943, \"az_total\": 32.0}, {\"year\": 1944, \"az_total\": 28.0}, {\"year\": 1945, \"az_total\": 29.0}, {\"year\": 1946, \"az_total\": 24.0}, {\"year\": 1947, \"az_total\": 26.0}, {\"year\": 1948, \"az_total\": 36.0}, {\"year\": 1949, \"az_total\": 29.0}, {\"year\": 1950, \"az_total\": 35.0}, {\"year\": 1951, \"az_total\": 34.0}, {\"year\": 1952, \"az_total\": 34.0}, {\"year\": 1953, \"az_total\": 33.0}, {\"year\": 1954, \"az_total\": 40.0}, {\"year\": 1955, \"az_total\": 41.0}, {\"year\": 1956, \"az_total\": 48.0}, {\"year\": 1957, \"az_total\": 40.0}, {\"year\": 1958, \"az_total\": 42.0}, {\"year\": 1959, \"az_total\": 44.0}, {\"year\": 1960, \"az_total\": 43.0}, {\"year\": 1961, \"az_total\": 48.0}, {\"year\": 1962, \"az_total\": 41.0}, {\"year\": 1963, \"az_total\": 51.0}, {\"year\": 1964, \"az_total\": 44.0}, {\"year\": 1965, \"az_total\": 34.0}, {\"year\": 1966, \"az_total\": 41.0}, {\"year\": 1967, \"az_total\": 30.0}, {\"year\": 1968, \"az_total\": 45.0}, {\"year\": 1969, \"az_total\": 56.0}, {\"year\": 1970, \"az_total\": 36.0}, {\"year\": 1971, \"az_total\": 41.0}, {\"year\": 1972, \"az_total\": 27.0}, {\"year\": 1973, \"az_total\": 22.0}, {\"year\": 1974, \"az_total\": 28.0}, {\"year\": 1975, \"az_total\": 22.0}, {\"year\": 1976, \"az_total\": 26.0}, {\"year\": 1977, \"az_total\": 26.0}, {\"year\": 1978, \"az_total\": 24.0}, {\"year\": 1979, \"az_total\": 30.0}, {\"year\": 1980, \"az_total\": 22.0}, {\"year\": 1981, \"az_total\": 21.0}, {\"year\": 1982, \"az_total\": 19.0}, {\"year\": 1983, \"az_total\": 16.0}, {\"year\": 1984, \"az_total\": 26.0}, {\"year\": 1985, \"az_total\": 18.0}, {\"year\": 1986, \"az_total\": 11.0}, {\"year\": 1987, \"az_total\": 17.0}, {\"year\": 1988, \"az_total\": 10.0}, {\"year\": 1989, \"az_total\": 12.0}, {\"year\": 1990, \"az_total\": 16.0}, {\"year\": 1991, \"az_total\": 12.0}, {\"year\": 1992, \"az_total\": 6.0}, {\"year\": 1993, \"az_total\": 10.0}, {\"year\": 1994, \"az_total\": 14.0}, {\"year\": 1995, \"az_total\": 8.0}, {\"year\": 1996, \"az_total\": 5.0}, {\"year\": 1997, \"az_total\": 8.0}, {\"year\": 1998, \"az_total\": 8.0}, {\"year\": 1999, \"az_total\": 7.0}, {\"year\": 2000, \"az_total\": 6.0}, {\"year\": 2001, \"az_total\": 5.0}, {\"year\": 2002, \"az_total\": 6.0}, {\"year\": 2003, \"az_total\": 7.0}, {\"year\": 2004, \"az_total\": 0.0}, {\"year\": 2005, \"az_total\": 10.0}, {\"year\": 2006, \"az_total\": 5.0}, {\"year\": 2007, \"az_total\": 5.0}, {\"year\": 2008, \"az_total\": 5.0}, {\"year\": 2009, \"az_total\": 0.0}, {\"year\": 2010, \"az_total\": 0.0}, {\"year\": 2011, \"az_total\": 0.0}, {\"year\": 2012, \"az_total\": 0.0}, {\"year\": 2013, \"az_total\": 0.0}, {\"year\": 2014, \"az_total\": 0.0}, {\"year\": 2015, \"az_total\": 0.0}]}}, {\"mode\": \"vega-lite\"});\n",
       "</script>"
      ],
      "text/plain": [
       "alt.Chart(...)"
      ]
     },
     "execution_count": 17,
     "metadata": {},
     "output_type": "execute_result"
    }
   ],
   "source": [
    "chart_az = (alt.Chart(ann_az)\n",
    "    .mark_line(color='orange')\n",
    "    .encode(x = alt.X('year', axis = alt.Axis(format = 'd', title = 'Year')), \n",
    "            y = alt.Y('az_total', axis=alt.Axis(title = 'Count of Ann')))\n",
    "    .properties(\n",
    "        height = 150,\n",
    "        width = 500,\n",
    "        title = {'text': 'The history of Ann in Colorado (blue) and Arizona (orange)'}\n",
    "    )\n",
    ")\n",
    "chart_az"
   ]
  },
  {
   "cell_type": "code",
   "execution_count": 18,
   "metadata": {},
   "outputs": [
    {
     "data": {
      "text/html": [
       "\n",
       "<div id=\"altair-viz-d60b3e4a3ffb454fa43019bd9aea3a07\"></div>\n",
       "<script type=\"text/javascript\">\n",
       "  (function(spec, embedOpt){\n",
       "    let outputDiv = document.currentScript.previousElementSibling;\n",
       "    if (outputDiv.id !== \"altair-viz-d60b3e4a3ffb454fa43019bd9aea3a07\") {\n",
       "      outputDiv = document.getElementById(\"altair-viz-d60b3e4a3ffb454fa43019bd9aea3a07\");\n",
       "    }\n",
       "    const paths = {\n",
       "      \"vega\": \"https://cdn.jsdelivr.net/npm//vega@5?noext\",\n",
       "      \"vega-lib\": \"https://cdn.jsdelivr.net/npm//vega-lib?noext\",\n",
       "      \"vega-lite\": \"https://cdn.jsdelivr.net/npm//vega-lite@4.8.1?noext\",\n",
       "      \"vega-embed\": \"https://cdn.jsdelivr.net/npm//vega-embed@6?noext\",\n",
       "    };\n",
       "\n",
       "    function loadScript(lib) {\n",
       "      return new Promise(function(resolve, reject) {\n",
       "        var s = document.createElement('script');\n",
       "        s.src = paths[lib];\n",
       "        s.async = true;\n",
       "        s.onload = () => resolve(paths[lib]);\n",
       "        s.onerror = () => reject(`Error loading script: ${paths[lib]}`);\n",
       "        document.getElementsByTagName(\"head\")[0].appendChild(s);\n",
       "      });\n",
       "    }\n",
       "\n",
       "    function showError(err) {\n",
       "      outputDiv.innerHTML = `<div class=\"error\" style=\"color:red;\">${err}</div>`;\n",
       "      throw err;\n",
       "    }\n",
       "\n",
       "    function displayChart(vegaEmbed) {\n",
       "      vegaEmbed(outputDiv, spec, embedOpt)\n",
       "        .catch(err => showError(`Javascript Error: ${err.message}<br>This usually means there's a typo in your chart specification. See the javascript console for the full traceback.`));\n",
       "    }\n",
       "\n",
       "    if(typeof define === \"function\" && define.amd) {\n",
       "      requirejs.config({paths});\n",
       "      require([\"vega-embed\"], displayChart, err => showError(`Error loading script: ${err.message}`));\n",
       "    } else if (typeof vegaEmbed === \"function\") {\n",
       "      displayChart(vegaEmbed);\n",
       "    } else {\n",
       "      loadScript(\"vega\")\n",
       "        .then(() => loadScript(\"vega-lite\"))\n",
       "        .then(() => loadScript(\"vega-embed\"))\n",
       "        .catch(showError)\n",
       "        .then(() => displayChart(vegaEmbed));\n",
       "    }\n",
       "  })({\"config\": {\"view\": {\"continuousWidth\": 400, \"continuousHeight\": 300}}, \"data\": {\"name\": \"data-4a16683801b93f67d8cce30e224ea622\"}, \"mark\": {\"type\": \"line\", \"color\": \"blue\"}, \"encoding\": {\"x\": {\"type\": \"quantitative\", \"axis\": {\"format\": \"d\", \"title\": \"Year\"}, \"field\": \"year\"}, \"y\": {\"type\": \"quantitative\", \"axis\": {\"title\": \"Count of Ann\"}, \"field\": \"co_total\"}}, \"height\": 150, \"title\": {\"text\": \"The history of Ann in Colorado (blue) and Arizona (orange)\"}, \"width\": 500, \"$schema\": \"https://vega.github.io/schema/vega-lite/v4.8.1.json\", \"datasets\": {\"data-4a16683801b93f67d8cce30e224ea622\": [{\"year\": 1910, \"co_total\": 25.0}, {\"year\": 1911, \"co_total\": 19.0}, {\"year\": 1912, \"co_total\": 31.0}, {\"year\": 1913, \"co_total\": 27.0}, {\"year\": 1914, \"co_total\": 30.0}, {\"year\": 1915, \"co_total\": 39.0}, {\"year\": 1916, \"co_total\": 44.0}, {\"year\": 1917, \"co_total\": 37.0}, {\"year\": 1918, \"co_total\": 46.0}, {\"year\": 1919, \"co_total\": 40.0}, {\"year\": 1920, \"co_total\": 48.0}, {\"year\": 1921, \"co_total\": 32.0}, {\"year\": 1922, \"co_total\": 36.0}, {\"year\": 1923, \"co_total\": 28.0}, {\"year\": 1924, \"co_total\": 25.0}, {\"year\": 1925, \"co_total\": 28.0}, {\"year\": 1926, \"co_total\": 33.0}, {\"year\": 1927, \"co_total\": 33.0}, {\"year\": 1928, \"co_total\": 25.0}, {\"year\": 1929, \"co_total\": 22.0}, {\"year\": 1930, \"co_total\": 22.0}, {\"year\": 1931, \"co_total\": 27.0}, {\"year\": 1932, \"co_total\": 38.0}, {\"year\": 1933, \"co_total\": 32.0}, {\"year\": 1934, \"co_total\": 35.0}, {\"year\": 1935, \"co_total\": 32.0}, {\"year\": 1936, \"co_total\": 31.0}, {\"year\": 1937, \"co_total\": 35.0}, {\"year\": 1938, \"co_total\": 36.0}, {\"year\": 1939, \"co_total\": 43.0}, {\"year\": 1940, \"co_total\": 46.0}, {\"year\": 1941, \"co_total\": 32.0}, {\"year\": 1942, \"co_total\": 58.0}, {\"year\": 1943, \"co_total\": 48.0}, {\"year\": 1944, \"co_total\": 52.0}, {\"year\": 1945, \"co_total\": 48.0}, {\"year\": 1946, \"co_total\": 59.0}, {\"year\": 1947, \"co_total\": 67.0}, {\"year\": 1948, \"co_total\": 64.0}, {\"year\": 1949, \"co_total\": 52.0}, {\"year\": 1950, \"co_total\": 61.0}, {\"year\": 1951, \"co_total\": 60.0}, {\"year\": 1952, \"co_total\": 67.0}, {\"year\": 1953, \"co_total\": 67.0}, {\"year\": 1954, \"co_total\": 80.0}, {\"year\": 1955, \"co_total\": 80.0}, {\"year\": 1956, \"co_total\": 79.0}, {\"year\": 1957, \"co_total\": 109.0}, {\"year\": 1958, \"co_total\": 84.0}, {\"year\": 1959, \"co_total\": 72.0}, {\"year\": 1960, \"co_total\": 84.0}, {\"year\": 1961, \"co_total\": 85.0}, {\"year\": 1962, \"co_total\": 76.0}, {\"year\": 1963, \"co_total\": 94.0}, {\"year\": 1964, \"co_total\": 87.0}, {\"year\": 1965, \"co_total\": 76.0}, {\"year\": 1966, \"co_total\": 56.0}, {\"year\": 1967, \"co_total\": 64.0}, {\"year\": 1968, \"co_total\": 69.0}, {\"year\": 1969, \"co_total\": 50.0}, {\"year\": 1970, \"co_total\": 61.0}, {\"year\": 1971, \"co_total\": 57.0}, {\"year\": 1972, \"co_total\": 29.0}, {\"year\": 1973, \"co_total\": 39.0}, {\"year\": 1974, \"co_total\": 32.0}, {\"year\": 1975, \"co_total\": 50.0}, {\"year\": 1976, \"co_total\": 29.0}, {\"year\": 1977, \"co_total\": 39.0}, {\"year\": 1978, \"co_total\": 23.0}, {\"year\": 1979, \"co_total\": 28.0}, {\"year\": 1980, \"co_total\": 28.0}, {\"year\": 1981, \"co_total\": 25.0}, {\"year\": 1982, \"co_total\": 37.0}, {\"year\": 1983, \"co_total\": 35.0}, {\"year\": 1984, \"co_total\": 28.0}, {\"year\": 1985, \"co_total\": 26.0}, {\"year\": 1986, \"co_total\": 15.0}, {\"year\": 1987, \"co_total\": 14.0}, {\"year\": 1988, \"co_total\": 13.0}, {\"year\": 1989, \"co_total\": 16.0}, {\"year\": 1990, \"co_total\": 12.0}, {\"year\": 1991, \"co_total\": 15.0}, {\"year\": 1992, \"co_total\": 11.0}, {\"year\": 1993, \"co_total\": 11.0}, {\"year\": 1994, \"co_total\": 13.0}, {\"year\": 1995, \"co_total\": 9.0}, {\"year\": 1996, \"co_total\": 10.0}, {\"year\": 1997, \"co_total\": 12.0}, {\"year\": 1998, \"co_total\": 8.0}, {\"year\": 1999, \"co_total\": 10.0}, {\"year\": 2000, \"co_total\": 7.0}, {\"year\": 2001, \"co_total\": 9.0}, {\"year\": 2002, \"co_total\": 7.0}, {\"year\": 2003, \"co_total\": 8.0}, {\"year\": 2004, \"co_total\": 5.0}, {\"year\": 2005, \"co_total\": 13.0}, {\"year\": 2006, \"co_total\": 5.0}, {\"year\": 2007, \"co_total\": 0.0}, {\"year\": 2008, \"co_total\": 6.0}, {\"year\": 2009, \"co_total\": 6.0}, {\"year\": 2010, \"co_total\": 5.0}, {\"year\": 2011, \"co_total\": 0.0}, {\"year\": 2012, \"co_total\": 0.0}, {\"year\": 2013, \"co_total\": 0.0}, {\"year\": 2014, \"co_total\": 5.0}, {\"year\": 2015, \"co_total\": 6.0}]}}, {\"mode\": \"vega-lite\"});\n",
       "</script>"
      ],
      "text/plain": [
       "alt.Chart(...)"
      ]
     },
     "execution_count": 18,
     "metadata": {},
     "output_type": "execute_result"
    }
   ],
   "source": [
    "chart_co = (alt.Chart(ann_co)\n",
    "    .mark_line(color='blue')\n",
    "    .encode(x = alt.X('year', axis = alt.Axis(format = 'd', title = 'Year')), \n",
    "            y = alt.Y('co_total', axis=alt.Axis(title = 'Count of Ann')))\n",
    "    .properties(\n",
    "        height = 150,\n",
    "        width = 500,\n",
    "        title = {'text': 'The history of Ann in Colorado (blue) and Arizona (orange)'}\n",
    "    )\n",
    ")\n",
    "chart_co"
   ]
  },
  {
   "cell_type": "code",
   "execution_count": 19,
   "metadata": {},
   "outputs": [
    {
     "data": {
      "text/html": [
       "\n",
       "<div id=\"altair-viz-2ba8f618cd714207a31a364d21524b6c\"></div>\n",
       "<script type=\"text/javascript\">\n",
       "  (function(spec, embedOpt){\n",
       "    let outputDiv = document.currentScript.previousElementSibling;\n",
       "    if (outputDiv.id !== \"altair-viz-2ba8f618cd714207a31a364d21524b6c\") {\n",
       "      outputDiv = document.getElementById(\"altair-viz-2ba8f618cd714207a31a364d21524b6c\");\n",
       "    }\n",
       "    const paths = {\n",
       "      \"vega\": \"https://cdn.jsdelivr.net/npm//vega@5?noext\",\n",
       "      \"vega-lib\": \"https://cdn.jsdelivr.net/npm//vega-lib?noext\",\n",
       "      \"vega-lite\": \"https://cdn.jsdelivr.net/npm//vega-lite@4.8.1?noext\",\n",
       "      \"vega-embed\": \"https://cdn.jsdelivr.net/npm//vega-embed@6?noext\",\n",
       "    };\n",
       "\n",
       "    function loadScript(lib) {\n",
       "      return new Promise(function(resolve, reject) {\n",
       "        var s = document.createElement('script');\n",
       "        s.src = paths[lib];\n",
       "        s.async = true;\n",
       "        s.onload = () => resolve(paths[lib]);\n",
       "        s.onerror = () => reject(`Error loading script: ${paths[lib]}`);\n",
       "        document.getElementsByTagName(\"head\")[0].appendChild(s);\n",
       "      });\n",
       "    }\n",
       "\n",
       "    function showError(err) {\n",
       "      outputDiv.innerHTML = `<div class=\"error\" style=\"color:red;\">${err}</div>`;\n",
       "      throw err;\n",
       "    }\n",
       "\n",
       "    function displayChart(vegaEmbed) {\n",
       "      vegaEmbed(outputDiv, spec, embedOpt)\n",
       "        .catch(err => showError(`Javascript Error: ${err.message}<br>This usually means there's a typo in your chart specification. See the javascript console for the full traceback.`));\n",
       "    }\n",
       "\n",
       "    if(typeof define === \"function\" && define.amd) {\n",
       "      requirejs.config({paths});\n",
       "      require([\"vega-embed\"], displayChart, err => showError(`Error loading script: ${err.message}`));\n",
       "    } else if (typeof vegaEmbed === \"function\") {\n",
       "      displayChart(vegaEmbed);\n",
       "    } else {\n",
       "      loadScript(\"vega\")\n",
       "        .then(() => loadScript(\"vega-lite\"))\n",
       "        .then(() => loadScript(\"vega-embed\"))\n",
       "        .catch(showError)\n",
       "        .then(() => displayChart(vegaEmbed));\n",
       "    }\n",
       "  })({\"config\": {\"view\": {\"continuousWidth\": 400, \"continuousHeight\": 300}}, \"layer\": [{\"data\": {\"name\": \"data-899eee88d6e8425c6e1763e24ff9d4aa\"}, \"mark\": {\"type\": \"line\", \"color\": \"orange\"}, \"encoding\": {\"x\": {\"type\": \"quantitative\", \"axis\": {\"format\": \"d\", \"title\": \"Year\"}, \"field\": \"year\"}, \"y\": {\"type\": \"quantitative\", \"axis\": {\"title\": \"Count of Ann\"}, \"field\": \"az_total\"}}, \"height\": 150, \"title\": {\"text\": \"The history of Ann in Colorado (blue) and Arizona (orange)\"}, \"width\": 500}, {\"data\": {\"name\": \"data-4a16683801b93f67d8cce30e224ea622\"}, \"mark\": {\"type\": \"line\", \"color\": \"blue\"}, \"encoding\": {\"x\": {\"type\": \"quantitative\", \"axis\": {\"format\": \"d\", \"title\": \"Year\"}, \"field\": \"year\"}, \"y\": {\"type\": \"quantitative\", \"axis\": {\"title\": \"Count of Ann\"}, \"field\": \"co_total\"}}, \"height\": 150, \"title\": {\"text\": \"The history of Ann in Colorado (blue) and Arizona (orange)\"}, \"width\": 500}], \"$schema\": \"https://vega.github.io/schema/vega-lite/v4.8.1.json\", \"datasets\": {\"data-899eee88d6e8425c6e1763e24ff9d4aa\": [{\"year\": 1910, \"az_total\": 0.0}, {\"year\": 1911, \"az_total\": 0.0}, {\"year\": 1912, \"az_total\": 0.0}, {\"year\": 1913, \"az_total\": 6.0}, {\"year\": 1914, \"az_total\": 6.0}, {\"year\": 1915, \"az_total\": 10.0}, {\"year\": 1916, \"az_total\": 9.0}, {\"year\": 1917, \"az_total\": 8.0}, {\"year\": 1918, \"az_total\": 8.0}, {\"year\": 1919, \"az_total\": 8.0}, {\"year\": 1920, \"az_total\": 10.0}, {\"year\": 1921, \"az_total\": 8.0}, {\"year\": 1922, \"az_total\": 10.0}, {\"year\": 1923, \"az_total\": 5.0}, {\"year\": 1924, \"az_total\": 9.0}, {\"year\": 1925, \"az_total\": 5.0}, {\"year\": 1926, \"az_total\": 10.0}, {\"year\": 1927, \"az_total\": 12.0}, {\"year\": 1928, \"az_total\": 5.0}, {\"year\": 1929, \"az_total\": 15.0}, {\"year\": 1930, \"az_total\": 15.0}, {\"year\": 1931, \"az_total\": 16.0}, {\"year\": 1932, \"az_total\": 17.0}, {\"year\": 1933, \"az_total\": 16.0}, {\"year\": 1934, \"az_total\": 18.0}, {\"year\": 1935, \"az_total\": 18.0}, {\"year\": 1936, \"az_total\": 15.0}, {\"year\": 1937, \"az_total\": 16.0}, {\"year\": 1938, \"az_total\": 12.0}, {\"year\": 1939, \"az_total\": 23.0}, {\"year\": 1940, \"az_total\": 19.0}, {\"year\": 1941, \"az_total\": 25.0}, {\"year\": 1942, \"az_total\": 22.0}, {\"year\": 1943, \"az_total\": 32.0}, {\"year\": 1944, \"az_total\": 28.0}, {\"year\": 1945, \"az_total\": 29.0}, {\"year\": 1946, \"az_total\": 24.0}, {\"year\": 1947, \"az_total\": 26.0}, {\"year\": 1948, \"az_total\": 36.0}, {\"year\": 1949, \"az_total\": 29.0}, {\"year\": 1950, \"az_total\": 35.0}, {\"year\": 1951, \"az_total\": 34.0}, {\"year\": 1952, \"az_total\": 34.0}, {\"year\": 1953, \"az_total\": 33.0}, {\"year\": 1954, \"az_total\": 40.0}, {\"year\": 1955, \"az_total\": 41.0}, {\"year\": 1956, \"az_total\": 48.0}, {\"year\": 1957, \"az_total\": 40.0}, {\"year\": 1958, \"az_total\": 42.0}, {\"year\": 1959, \"az_total\": 44.0}, {\"year\": 1960, \"az_total\": 43.0}, {\"year\": 1961, \"az_total\": 48.0}, {\"year\": 1962, \"az_total\": 41.0}, {\"year\": 1963, \"az_total\": 51.0}, {\"year\": 1964, \"az_total\": 44.0}, {\"year\": 1965, \"az_total\": 34.0}, {\"year\": 1966, \"az_total\": 41.0}, {\"year\": 1967, \"az_total\": 30.0}, {\"year\": 1968, \"az_total\": 45.0}, {\"year\": 1969, \"az_total\": 56.0}, {\"year\": 1970, \"az_total\": 36.0}, {\"year\": 1971, \"az_total\": 41.0}, {\"year\": 1972, \"az_total\": 27.0}, {\"year\": 1973, \"az_total\": 22.0}, {\"year\": 1974, \"az_total\": 28.0}, {\"year\": 1975, \"az_total\": 22.0}, {\"year\": 1976, \"az_total\": 26.0}, {\"year\": 1977, \"az_total\": 26.0}, {\"year\": 1978, \"az_total\": 24.0}, {\"year\": 1979, \"az_total\": 30.0}, {\"year\": 1980, \"az_total\": 22.0}, {\"year\": 1981, \"az_total\": 21.0}, {\"year\": 1982, \"az_total\": 19.0}, {\"year\": 1983, \"az_total\": 16.0}, {\"year\": 1984, \"az_total\": 26.0}, {\"year\": 1985, \"az_total\": 18.0}, {\"year\": 1986, \"az_total\": 11.0}, {\"year\": 1987, \"az_total\": 17.0}, {\"year\": 1988, \"az_total\": 10.0}, {\"year\": 1989, \"az_total\": 12.0}, {\"year\": 1990, \"az_total\": 16.0}, {\"year\": 1991, \"az_total\": 12.0}, {\"year\": 1992, \"az_total\": 6.0}, {\"year\": 1993, \"az_total\": 10.0}, {\"year\": 1994, \"az_total\": 14.0}, {\"year\": 1995, \"az_total\": 8.0}, {\"year\": 1996, \"az_total\": 5.0}, {\"year\": 1997, \"az_total\": 8.0}, {\"year\": 1998, \"az_total\": 8.0}, {\"year\": 1999, \"az_total\": 7.0}, {\"year\": 2000, \"az_total\": 6.0}, {\"year\": 2001, \"az_total\": 5.0}, {\"year\": 2002, \"az_total\": 6.0}, {\"year\": 2003, \"az_total\": 7.0}, {\"year\": 2004, \"az_total\": 0.0}, {\"year\": 2005, \"az_total\": 10.0}, {\"year\": 2006, \"az_total\": 5.0}, {\"year\": 2007, \"az_total\": 5.0}, {\"year\": 2008, \"az_total\": 5.0}, {\"year\": 2009, \"az_total\": 0.0}, {\"year\": 2010, \"az_total\": 0.0}, {\"year\": 2011, \"az_total\": 0.0}, {\"year\": 2012, \"az_total\": 0.0}, {\"year\": 2013, \"az_total\": 0.0}, {\"year\": 2014, \"az_total\": 0.0}, {\"year\": 2015, \"az_total\": 0.0}], \"data-4a16683801b93f67d8cce30e224ea622\": [{\"year\": 1910, \"co_total\": 25.0}, {\"year\": 1911, \"co_total\": 19.0}, {\"year\": 1912, \"co_total\": 31.0}, {\"year\": 1913, \"co_total\": 27.0}, {\"year\": 1914, \"co_total\": 30.0}, {\"year\": 1915, \"co_total\": 39.0}, {\"year\": 1916, \"co_total\": 44.0}, {\"year\": 1917, \"co_total\": 37.0}, {\"year\": 1918, \"co_total\": 46.0}, {\"year\": 1919, \"co_total\": 40.0}, {\"year\": 1920, \"co_total\": 48.0}, {\"year\": 1921, \"co_total\": 32.0}, {\"year\": 1922, \"co_total\": 36.0}, {\"year\": 1923, \"co_total\": 28.0}, {\"year\": 1924, \"co_total\": 25.0}, {\"year\": 1925, \"co_total\": 28.0}, {\"year\": 1926, \"co_total\": 33.0}, {\"year\": 1927, \"co_total\": 33.0}, {\"year\": 1928, \"co_total\": 25.0}, {\"year\": 1929, \"co_total\": 22.0}, {\"year\": 1930, \"co_total\": 22.0}, {\"year\": 1931, \"co_total\": 27.0}, {\"year\": 1932, \"co_total\": 38.0}, {\"year\": 1933, \"co_total\": 32.0}, {\"year\": 1934, \"co_total\": 35.0}, {\"year\": 1935, \"co_total\": 32.0}, {\"year\": 1936, \"co_total\": 31.0}, {\"year\": 1937, \"co_total\": 35.0}, {\"year\": 1938, \"co_total\": 36.0}, {\"year\": 1939, \"co_total\": 43.0}, {\"year\": 1940, \"co_total\": 46.0}, {\"year\": 1941, \"co_total\": 32.0}, {\"year\": 1942, \"co_total\": 58.0}, {\"year\": 1943, \"co_total\": 48.0}, {\"year\": 1944, \"co_total\": 52.0}, {\"year\": 1945, \"co_total\": 48.0}, {\"year\": 1946, \"co_total\": 59.0}, {\"year\": 1947, \"co_total\": 67.0}, {\"year\": 1948, \"co_total\": 64.0}, {\"year\": 1949, \"co_total\": 52.0}, {\"year\": 1950, \"co_total\": 61.0}, {\"year\": 1951, \"co_total\": 60.0}, {\"year\": 1952, \"co_total\": 67.0}, {\"year\": 1953, \"co_total\": 67.0}, {\"year\": 1954, \"co_total\": 80.0}, {\"year\": 1955, \"co_total\": 80.0}, {\"year\": 1956, \"co_total\": 79.0}, {\"year\": 1957, \"co_total\": 109.0}, {\"year\": 1958, \"co_total\": 84.0}, {\"year\": 1959, \"co_total\": 72.0}, {\"year\": 1960, \"co_total\": 84.0}, {\"year\": 1961, \"co_total\": 85.0}, {\"year\": 1962, \"co_total\": 76.0}, {\"year\": 1963, \"co_total\": 94.0}, {\"year\": 1964, \"co_total\": 87.0}, {\"year\": 1965, \"co_total\": 76.0}, {\"year\": 1966, \"co_total\": 56.0}, {\"year\": 1967, \"co_total\": 64.0}, {\"year\": 1968, \"co_total\": 69.0}, {\"year\": 1969, \"co_total\": 50.0}, {\"year\": 1970, \"co_total\": 61.0}, {\"year\": 1971, \"co_total\": 57.0}, {\"year\": 1972, \"co_total\": 29.0}, {\"year\": 1973, \"co_total\": 39.0}, {\"year\": 1974, \"co_total\": 32.0}, {\"year\": 1975, \"co_total\": 50.0}, {\"year\": 1976, \"co_total\": 29.0}, {\"year\": 1977, \"co_total\": 39.0}, {\"year\": 1978, \"co_total\": 23.0}, {\"year\": 1979, \"co_total\": 28.0}, {\"year\": 1980, \"co_total\": 28.0}, {\"year\": 1981, \"co_total\": 25.0}, {\"year\": 1982, \"co_total\": 37.0}, {\"year\": 1983, \"co_total\": 35.0}, {\"year\": 1984, \"co_total\": 28.0}, {\"year\": 1985, \"co_total\": 26.0}, {\"year\": 1986, \"co_total\": 15.0}, {\"year\": 1987, \"co_total\": 14.0}, {\"year\": 1988, \"co_total\": 13.0}, {\"year\": 1989, \"co_total\": 16.0}, {\"year\": 1990, \"co_total\": 12.0}, {\"year\": 1991, \"co_total\": 15.0}, {\"year\": 1992, \"co_total\": 11.0}, {\"year\": 1993, \"co_total\": 11.0}, {\"year\": 1994, \"co_total\": 13.0}, {\"year\": 1995, \"co_total\": 9.0}, {\"year\": 1996, \"co_total\": 10.0}, {\"year\": 1997, \"co_total\": 12.0}, {\"year\": 1998, \"co_total\": 8.0}, {\"year\": 1999, \"co_total\": 10.0}, {\"year\": 2000, \"co_total\": 7.0}, {\"year\": 2001, \"co_total\": 9.0}, {\"year\": 2002, \"co_total\": 7.0}, {\"year\": 2003, \"co_total\": 8.0}, {\"year\": 2004, \"co_total\": 5.0}, {\"year\": 2005, \"co_total\": 13.0}, {\"year\": 2006, \"co_total\": 5.0}, {\"year\": 2007, \"co_total\": 0.0}, {\"year\": 2008, \"co_total\": 6.0}, {\"year\": 2009, \"co_total\": 6.0}, {\"year\": 2010, \"co_total\": 5.0}, {\"year\": 2011, \"co_total\": 0.0}, {\"year\": 2012, \"co_total\": 0.0}, {\"year\": 2013, \"co_total\": 0.0}, {\"year\": 2014, \"co_total\": 5.0}, {\"year\": 2015, \"co_total\": 6.0}]}}, {\"mode\": \"vega-lite\"});\n",
       "</script>"
      ],
      "text/plain": [
       "alt.LayerChart(...)"
      ]
     },
     "execution_count": 19,
     "metadata": {},
     "output_type": "execute_result"
    }
   ],
   "source": [
    "chart_az + chart_co"
   ]
  },
  {
   "cell_type": "markdown",
   "metadata": {},
   "source": [
    "### Challenge 2"
   ]
  },
  {
   "cell_type": "code",
   "execution_count": 33,
   "metadata": {},
   "outputs": [
    {
     "name": "stdout",
     "output_type": "stream",
     "text": [
      "|    |   year |   id_total |       total |   percent |\n",
      "|---:|-------:|-----------:|------------:|----------:|\n",
      "|  0 |   1978 |    14460   | 2.45557e+06 |  0.588866 |\n",
      "|  1 |   1979 |    14924.5 | 2.55866e+06 |  0.583293 |\n",
      "|  2 |   1980 |    15278.5 | 2.64366e+06 |  0.57793  |\n",
      "|  3 |   1977 |    13977   | 2.46175e+06 |  0.567766 |\n",
      "|  4 |   1981 |    14897.5 | 2.64723e+06 |  0.562758 |\n"
     ]
    }
   ],
   "source": [
    "chal_2 = (dat_names\n",
    ".groupby('year')\n",
    ".agg(id_total = ('ID', sum),\n",
    "    total = ('Total', sum)\n",
    ")\n",
    ".assign(percent = lambda x: (x.id_total / x.total)*100)\n",
    ".sort_values(by = 'percent', ascending = False)\n",
    ".reset_index()\n",
    ")\n",
    "first5 = chal_2.head(5)\n",
    "print(first5.to_markdown())"
   ]
  },
  {
   "cell_type": "markdown",
   "metadata": {},
   "source": [
    "### Challenge 3"
   ]
  },
  {
   "cell_type": "code",
   "execution_count": 44,
   "metadata": {},
   "outputs": [
    {
     "name": "stdout",
     "output_type": "stream",
     "text": [
      "|    |       0 |\n",
      "|---:|--------:|\n",
      "|  0 | 229.524 |\n",
      "|  1 |  18     |\n",
      "|  2 |  22     |\n",
      "|  3 |  45     |\n",
      "|  4 |  31     |\n",
      "|  5 | 229.524 |\n",
      "|  6 |  85     |\n",
      "|  7 |  38     |\n",
      "|  8 | 129     |\n",
      "|  9 | 800     |\n",
      "| 10 |  22     |\n",
      "| 11 |   5     |\n"
     ]
    }
   ],
   "source": [
    "bob = pd.Series([np.nan, 18, 22, 45, 31, np.nan, 85, 38, 129, 800, 22, 5])\n",
    "dev = bob.dropna()\n",
    "st_dev = np.std(dev)\n",
    "chal3 = bob.replace(np.nan, st_dev)\n",
    "print(chal3.to_markdown())"
   ]
  },
  {
   "cell_type": "markdown",
   "metadata": {},
   "source": [
    "### Challenge 4"
   ]
  },
  {
   "cell_type": "code",
   "execution_count": 45,
   "metadata": {},
   "outputs": [],
   "source": [
    "dwellings_ml = pd.read_csv(\"https://github.com/byuidatascience/data4dwellings/raw/master/data-raw/dwellings_ml/dwellings_ml.csv\")\n",
    "\n",
    "features = dwellings_ml.drop(['numbaths','parcel'], axis = 1)\n",
    "target = (dwellings_ml.numbaths > 2)*1"
   ]
  },
  {
   "cell_type": "code",
   "execution_count": 46,
   "metadata": {},
   "outputs": [],
   "source": [
    "x_train, x_test, y_train, y_test = train_test_split(\n",
    "features,\n",
    "target,\n",
    "test_size = .35,\n",
    "random_state = 2021)"
   ]
  },
  {
   "cell_type": "code",
   "execution_count": 47,
   "metadata": {},
   "outputs": [
    {
     "data": {
      "text/plain": [
       "0.9223192019950125"
      ]
     },
     "execution_count": 47,
     "metadata": {},
     "output_type": "execute_result"
    }
   ],
   "source": [
    "# create a classification model\n",
    "classifier_RF = RandomForestClassifier()\n",
    "# train the model\n",
    "classifier_RF.fit(x_train, y_train)\n",
    "# use your model to make predictions!\n",
    "y_predicted = classifier_RF.predict(x_test)\n",
    "# test how accurate those predictions are\n",
    "metrics.accuracy_score(y_test, y_predicted)\n"
   ]
  },
  {
   "cell_type": "markdown",
   "metadata": {},
   "source": [
    "### Challenge 5"
   ]
  },
  {
   "cell_type": "code",
   "execution_count": 48,
   "metadata": {},
   "outputs": [
    {
     "data": {
      "text/html": [
       "<div>\n",
       "<style scoped>\n",
       "    .dataframe tbody tr th:only-of-type {\n",
       "        vertical-align: middle;\n",
       "    }\n",
       "\n",
       "    .dataframe tbody tr th {\n",
       "        vertical-align: top;\n",
       "    }\n",
       "\n",
       "    .dataframe thead th {\n",
       "        text-align: right;\n",
       "    }\n",
       "</style>\n",
       "<table border=\"1\" class=\"dataframe\">\n",
       "  <thead>\n",
       "    <tr style=\"text-align: right;\">\n",
       "      <th></th>\n",
       "      <th>name</th>\n",
       "      <th>house</th>\n",
       "      <th>birth_decade</th>\n",
       "      <th>ancestry</th>\n",
       "      <th>hogwartsStudent</th>\n",
       "    </tr>\n",
       "  </thead>\n",
       "  <tbody>\n",
       "    <tr>\n",
       "      <th>0</th>\n",
       "      <td>Harry Potter</td>\n",
       "      <td>Gryffindor</td>\n",
       "      <td>1980-1989</td>\n",
       "      <td>half-blood</td>\n",
       "      <td>True</td>\n",
       "    </tr>\n",
       "    <tr>\n",
       "      <th>1</th>\n",
       "      <td>Hermione Granger</td>\n",
       "      <td>Gryffindor</td>\n",
       "      <td>1970-1979</td>\n",
       "      <td>muggleborn</td>\n",
       "      <td>True</td>\n",
       "    </tr>\n",
       "    <tr>\n",
       "      <th>2</th>\n",
       "      <td>Ron Weasley</td>\n",
       "      <td>Gryffindor</td>\n",
       "      <td>1980-1989</td>\n",
       "      <td>pure-blood</td>\n",
       "      <td>True</td>\n",
       "    </tr>\n",
       "    <tr>\n",
       "      <th>3</th>\n",
       "      <td>Draco Malfoy</td>\n",
       "      <td>Slytherin</td>\n",
       "      <td>1980-1989</td>\n",
       "      <td>pure-blood</td>\n",
       "      <td>True</td>\n",
       "    </tr>\n",
       "    <tr>\n",
       "      <th>4</th>\n",
       "      <td>Minerva McGonagall</td>\n",
       "      <td>Gryffindor</td>\n",
       "      <td>1920-1929</td>\n",
       "      <td>NaN</td>\n",
       "      <td>False</td>\n",
       "    </tr>\n",
       "    <tr>\n",
       "      <th>5</th>\n",
       "      <td>Severus Snape</td>\n",
       "      <td>Slytherin</td>\n",
       "      <td>1960-1969</td>\n",
       "      <td>half-blood</td>\n",
       "      <td>False</td>\n",
       "    </tr>\n",
       "    <tr>\n",
       "      <th>6</th>\n",
       "      <td>Rubeus Hagrid</td>\n",
       "      <td>Gryffindor</td>\n",
       "      <td>1920-1929</td>\n",
       "      <td>half-blood</td>\n",
       "      <td>False</td>\n",
       "    </tr>\n",
       "    <tr>\n",
       "      <th>7</th>\n",
       "      <td>Cedric Diggory</td>\n",
       "      <td>Hufflepuff</td>\n",
       "      <td>1970-1979</td>\n",
       "      <td>pure-blood</td>\n",
       "      <td>True</td>\n",
       "    </tr>\n",
       "    <tr>\n",
       "      <th>8</th>\n",
       "      <td>Ginny Weasley</td>\n",
       "      <td>Gryffindor</td>\n",
       "      <td>1980-1989</td>\n",
       "      <td>pure-blood</td>\n",
       "      <td>True</td>\n",
       "    </tr>\n",
       "    <tr>\n",
       "      <th>9</th>\n",
       "      <td>Lord Voldemort</td>\n",
       "      <td>Slytherin</td>\n",
       "      <td>1920-1929</td>\n",
       "      <td>half-blood</td>\n",
       "      <td>False</td>\n",
       "    </tr>\n",
       "  </tbody>\n",
       "</table>\n",
       "</div>"
      ],
      "text/plain": [
       "                 name       house birth_decade    ancestry  hogwartsStudent\n",
       "0        Harry Potter  Gryffindor    1980-1989  half-blood             True\n",
       "1    Hermione Granger  Gryffindor    1970-1979  muggleborn             True\n",
       "2         Ron Weasley  Gryffindor    1980-1989  pure-blood             True\n",
       "3        Draco Malfoy   Slytherin    1980-1989  pure-blood             True\n",
       "4  Minerva McGonagall  Gryffindor    1920-1929         NaN            False\n",
       "5       Severus Snape   Slytherin    1960-1969  half-blood            False\n",
       "6       Rubeus Hagrid  Gryffindor    1920-1929  half-blood            False\n",
       "7      Cedric Diggory  Hufflepuff    1970-1979  pure-blood             True\n",
       "8       Ginny Weasley  Gryffindor    1980-1989  pure-blood             True\n",
       "9      Lord Voldemort   Slytherin    1920-1929  half-blood            False"
      ]
     },
     "execution_count": 48,
     "metadata": {},
     "output_type": "execute_result"
    }
   ],
   "source": [
    "hp = pd.DataFrame({'name': ['Harry Potter','Hermione Granger','Ron Weasley','Draco Malfoy','Minerva McGonagall','Severus Snape','Rubeus Hagrid','Cedric Diggory','Ginny Weasley','Lord Voldemort'],'house': ['Gryffindor','Gryffindor','Gryffindor','Slytherin','Gryffindor','Slytherin','Gryffindor','Hufflepuff','Gryffindor','Slytherin'],'birth_decade': ['1980-1989', '1970-1979', '1980-1989', '1980-1989', '1920-1929', '1960-1969', '1920-1929', '1970-1979', '1980-1989', '1920-1929'],'ancestry': ['half-blood','muggleborn','pure-blood','pure-blood',np.nan,'half-blood','half-blood','pure-blood','pure-blood','half-blood'],'hogwartsStudent': [True,True,True,True,False,False,False,True,True,False]})\n",
    "\n",
    "hp"
   ]
  },
  {
   "cell_type": "code",
   "execution_count": 52,
   "metadata": {},
   "outputs": [
    {
     "data": {
      "text/plain": [
       "0    1.0\n",
       "1    1.0\n",
       "2    1.0\n",
       "3    4.0\n",
       "4    1.0\n",
       "5    4.0\n",
       "6    1.0\n",
       "7    2.0\n",
       "8    1.0\n",
       "9    4.0\n",
       "Name: house, dtype: float64"
      ]
     },
     "execution_count": 52,
     "metadata": {},
     "output_type": "execute_result"
    }
   ],
   "source": [
    "new_hp = hp\n",
    "new_house = (new_hp.house.\n",
    "        str.replace('Gryffindor', '1').\n",
    "        str.replace('Hufflepuff', '2').\n",
    "        str.replace('Ravenclaw', '3').\n",
    "        str.replace('Slytherin', '4').\n",
    "        # rename(columns = {0:'new_house'})\n",
    "        astype('float'))\n",
    "new_house"
   ]
  },
  {
   "cell_type": "code",
   "execution_count": 54,
   "metadata": {},
   "outputs": [
    {
     "name": "stderr",
     "output_type": "stream",
     "text": [
      "C:\\Users\\Sam\\AppData\\Local\\Temp/ipykernel_16000/1977797761.py:1: FutureWarning: The default value of regex will change from True to False in a future version.\n",
      "  new_year = (new_hp.birth_decade\n"
     ]
    },
    {
     "data": {
      "text/plain": [
       "0    1980.0\n",
       "1    1970.0\n",
       "2    1980.0\n",
       "3    1980.0\n",
       "4    1920.0\n",
       "5    1960.0\n",
       "6    1920.0\n",
       "7    1970.0\n",
       "8    1980.0\n",
       "9    1920.0\n",
       "Name: range, dtype: float64"
      ]
     },
     "execution_count": 54,
     "metadata": {},
     "output_type": "execute_result"
    }
   ],
   "source": [
    "new_year = (new_hp.birth_decade\n",
    "    .str.replace(\"\\$|,|\\+\", \"\")\n",
    "    .str.split(\"-\", expand=True)\n",
    "    .rename(columns = {0:'range'})\n",
    "    .astype('float')\n",
    "    .range\n",
    ")\n",
    "new_year"
   ]
  },
  {
   "cell_type": "code",
   "execution_count": 58,
   "metadata": {},
   "outputs": [
    {
     "data": {
      "text/plain": [
       "0    2.0\n",
       "1    3.0\n",
       "2    1.0\n",
       "3    1.0\n",
       "4    NaN\n",
       "5    2.0\n",
       "6    2.0\n",
       "7    1.0\n",
       "8    1.0\n",
       "9    2.0\n",
       "Name: ancestry, dtype: float64"
      ]
     },
     "execution_count": 58,
     "metadata": {},
     "output_type": "execute_result"
    }
   ],
   "source": [
    "new_ancestry = (new_hp.ancestry.\n",
    "        str.replace('pure-blood', '1').\n",
    "        str.replace('half-blood', '2').\n",
    "        str.replace('muggleborn', '3').\n",
    "        astype('float'))\n",
    "new_ancestry"
   ]
  }
 ],
 "metadata": {
  "interpreter": {
   "hash": "de9535f006a0634b9bf196f8949358539334682544f01afd5564e4c2ba45ce65"
  },
  "kernelspec": {
   "display_name": "Python 3.9.7 64-bit",
   "language": "python",
   "name": "python3"
  },
  "language_info": {
   "codemirror_mode": {
    "name": "ipython",
    "version": 3
   },
   "file_extension": ".py",
   "mimetype": "text/x-python",
   "name": "python",
   "nbconvert_exporter": "python",
   "pygments_lexer": "ipython3",
   "version": "3.9.7"
  },
  "orig_nbformat": 4
 },
 "nbformat": 4,
 "nbformat_minor": 2
}
