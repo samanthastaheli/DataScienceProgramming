{
 "cells": [
  {
   "cell_type": "markdown",
   "metadata": {},
   "source": [
    "# Week 6 Checkpoint"
   ]
  },
  {
   "cell_type": "code",
   "execution_count": 1,
   "metadata": {},
   "outputs": [],
   "source": [
    "import datadotworld as dw"
   ]
  },
  {
   "cell_type": "code",
   "execution_count": 4,
   "metadata": {},
   "outputs": [
    {
     "name": "stdout",
     "output_type": "stream",
     "text": [
      "    playerid  yearid  stint teamid lgid   g   ab   r   h  2b  ...  rbi  sb  \\\n",
      "0  abercda01    1871      1    TRO   NA   1    4   0   0   0  ...    0   0   \n",
      "1   addybo01    1871      1    RC1   NA  25  118  30  32   6  ...   13   8   \n",
      "\n",
      "   cs  bb  so   ibb   hbp    sh    sf gidp  \n",
      "0   0   0   0  None  None  None  None    0  \n",
      "1   1   4   0  None  None  None  None    0  \n",
      "\n",
      "[2 rows x 22 columns]\n"
     ]
    }
   ],
   "source": [
    "qr = dw.query('byuidss/cse-250-baseball-database', 'SELECT * FROM batting LIMIT 2')\n",
    "print(qr.dataframe)"
   ]
  }
 ],
 "metadata": {
  "interpreter": {
   "hash": "de9535f006a0634b9bf196f8949358539334682544f01afd5564e4c2ba45ce65"
  },
  "kernelspec": {
   "display_name": "Python 3.9.7 64-bit",
   "name": "python3"
  },
  "language_info": {
   "codemirror_mode": {
    "name": "ipython",
    "version": 3
   },
   "file_extension": ".py",
   "mimetype": "text/x-python",
   "name": "python",
   "nbconvert_exporter": "python",
   "pygments_lexer": "ipython3",
   "version": "3.9.7"
  },
  "orig_nbformat": 4
 },
 "nbformat": 4,
 "nbformat_minor": 2
}
