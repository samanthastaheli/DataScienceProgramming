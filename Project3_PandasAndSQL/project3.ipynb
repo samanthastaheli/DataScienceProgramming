{
 "cells": [
  {
   "cell_type": "markdown",
   "metadata": {},
   "source": [
    "# Project 3"
   ]
  },
  {
   "cell_type": "code",
   "execution_count": 1,
   "metadata": {},
   "outputs": [],
   "source": [
    "import datadotworld as dw\n",
    "import pandas as pd\n",
    "import altair as alt\n",
    "import numpy as np"
   ]
  },
  {
   "cell_type": "markdown",
   "metadata": {},
   "source": [
    "## Question 1"
   ]
  },
  {
   "cell_type": "markdown",
   "metadata": {},
   "source": [
    "### byui id: \"idbyuid\""
   ]
  },
  {
   "cell_type": "code",
   "execution_count": 2,
   "metadata": {},
   "outputs": [
    {
     "name": "stdout",
     "output_type": "stream",
     "text": [
      "|    | playerid   |   salary | teamid   |   yearid | schoolid   |\n",
      "|---:|:-----------|---------:|:---------|---------:|:-----------|\n",
      "|  0 | stephga01  |   150000 | PHI      |     1997 | idbyuid    |\n",
      "|  1 | stephga01  |   185000 | PHI      |     1998 | idbyuid    |\n",
      "|  2 | stephga01  |   215000 | SLN      |     1999 | idbyuid    |\n",
      "|  3 | lindsma01  |   380000 | FLO      |     2007 | idbyuid    |\n",
      "|  4 | lindsma01  |   395000 | FLO      |     2008 | idbyuid    |\n",
      "|  5 | lindsma01  |   410000 | FLO      |     2009 | idbyuid    |\n",
      "|  6 | stephga01  |   550000 | SLN      |     2000 | idbyuid    |\n",
      "|  7 | stephga01  |   800000 | SLN      |     2003 | idbyuid    |\n",
      "|  8 | stephga01  |   900000 | SLN      |     2002 | idbyuid    |\n",
      "|  9 | stephga01  |  1025000 | SLN      |     2001 | idbyuid    |\n",
      "| 10 | lindsma01  |  1625000 | HOU      |     2010 | idbyuid    |\n",
      "| 11 | lindsma01  |  2300000 | CHA      |     2013 | idbyuid    |\n",
      "| 12 | lindsma01  |  2800000 | COL      |     2011 | idbyuid    |\n",
      "| 13 | lindsma01  |  3600000 | BAL      |     2012 | idbyuid    |\n",
      "| 14 | lindsma01  |  4000000 | CHA      |     2014 | idbyuid    |\n"
     ]
    }
   ],
   "source": [
    "byui_players = dw.query('byuidss/cse-250-baseball-database', \n",
    "'''\n",
    "SELECT DISTINCT salaries.playerid, salaries.salary, salaries.teamid, salaries.yearid, collegeplaying.schoolid \n",
    "FROM salaries AS sal\n",
    "    JOIN collegeplaying AS cp ON sal.playerid = cp.playerid\n",
    " WHERE collegeplaying.schoolid = \"idbyuid\"\n",
    " ORDER BY salaries.salary\n",
    "''')\n",
    "q1_table = byui_players.dataframe\n",
    "print(q1_table.to_markdown())"
   ]
  },
  {
   "cell_type": "code",
   "execution_count": 3,
   "metadata": {},
   "outputs": [
    {
     "data": {
      "text/html": [
       "\n",
       "<div id=\"altair-viz-932cbf70a9134b22a924d037d27eab35\"></div>\n",
       "<script type=\"text/javascript\">\n",
       "  (function(spec, embedOpt){\n",
       "    let outputDiv = document.currentScript.previousElementSibling;\n",
       "    if (outputDiv.id !== \"altair-viz-932cbf70a9134b22a924d037d27eab35\") {\n",
       "      outputDiv = document.getElementById(\"altair-viz-932cbf70a9134b22a924d037d27eab35\");\n",
       "    }\n",
       "    const paths = {\n",
       "      \"vega\": \"https://cdn.jsdelivr.net/npm//vega@5?noext\",\n",
       "      \"vega-lib\": \"https://cdn.jsdelivr.net/npm//vega-lib?noext\",\n",
       "      \"vega-lite\": \"https://cdn.jsdelivr.net/npm//vega-lite@4.8.1?noext\",\n",
       "      \"vega-embed\": \"https://cdn.jsdelivr.net/npm//vega-embed@6?noext\",\n",
       "    };\n",
       "\n",
       "    function loadScript(lib) {\n",
       "      return new Promise(function(resolve, reject) {\n",
       "        var s = document.createElement('script');\n",
       "        s.src = paths[lib];\n",
       "        s.async = true;\n",
       "        s.onload = () => resolve(paths[lib]);\n",
       "        s.onerror = () => reject(`Error loading script: ${paths[lib]}`);\n",
       "        document.getElementsByTagName(\"head\")[0].appendChild(s);\n",
       "      });\n",
       "    }\n",
       "\n",
       "    function showError(err) {\n",
       "      outputDiv.innerHTML = `<div class=\"error\" style=\"color:red;\">${err}</div>`;\n",
       "      throw err;\n",
       "    }\n",
       "\n",
       "    function displayChart(vegaEmbed) {\n",
       "      vegaEmbed(outputDiv, spec, embedOpt)\n",
       "        .catch(err => showError(`Javascript Error: ${err.message}<br>This usually means there's a typo in your chart specification. See the javascript console for the full traceback.`));\n",
       "    }\n",
       "\n",
       "    if(typeof define === \"function\" && define.amd) {\n",
       "      requirejs.config({paths});\n",
       "      require([\"vega-embed\"], displayChart, err => showError(`Error loading script: ${err.message}`));\n",
       "    } else if (typeof vegaEmbed === \"function\") {\n",
       "      displayChart(vegaEmbed);\n",
       "    } else {\n",
       "      loadScript(\"vega\")\n",
       "        .then(() => loadScript(\"vega-lite\"))\n",
       "        .then(() => loadScript(\"vega-embed\"))\n",
       "        .catch(showError)\n",
       "        .then(() => displayChart(vegaEmbed));\n",
       "    }\n",
       "  })({\"config\": {\"view\": {\"continuousWidth\": 400, \"continuousHeight\": 300}}, \"data\": {\"name\": \"data-2bd6df5f0ce84030f3f27b074efb4534\"}, \"mark\": {\"type\": \"bar\", \"color\": \"#98AC5D\", \"opacity\": 0.8}, \"encoding\": {\"x\": {\"type\": \"quantitative\", \"axis\": {\"title\": \"Salary\"}, \"field\": \"salary\"}, \"y\": {\"type\": \"nominal\", \"axis\": {\"title\": \"Player ID\"}, \"field\": \"playerid\"}}, \"title\": {\"text\": \"BYU-I Baseball Players Salaries\"}, \"$schema\": \"https://vega.github.io/schema/vega-lite/v4.8.1.json\", \"datasets\": {\"data-2bd6df5f0ce84030f3f27b074efb4534\": [{\"playerid\": \"stephga01\", \"salary\": 150000, \"teamid\": \"PHI\", \"yearid\": 1997, \"schoolid\": \"idbyuid\"}, {\"playerid\": \"stephga01\", \"salary\": 185000, \"teamid\": \"PHI\", \"yearid\": 1998, \"schoolid\": \"idbyuid\"}, {\"playerid\": \"stephga01\", \"salary\": 215000, \"teamid\": \"SLN\", \"yearid\": 1999, \"schoolid\": \"idbyuid\"}, {\"playerid\": \"lindsma01\", \"salary\": 380000, \"teamid\": \"FLO\", \"yearid\": 2007, \"schoolid\": \"idbyuid\"}, {\"playerid\": \"lindsma01\", \"salary\": 395000, \"teamid\": \"FLO\", \"yearid\": 2008, \"schoolid\": \"idbyuid\"}, {\"playerid\": \"lindsma01\", \"salary\": 410000, \"teamid\": \"FLO\", \"yearid\": 2009, \"schoolid\": \"idbyuid\"}, {\"playerid\": \"stephga01\", \"salary\": 550000, \"teamid\": \"SLN\", \"yearid\": 2000, \"schoolid\": \"idbyuid\"}, {\"playerid\": \"stephga01\", \"salary\": 800000, \"teamid\": \"SLN\", \"yearid\": 2003, \"schoolid\": \"idbyuid\"}, {\"playerid\": \"stephga01\", \"salary\": 900000, \"teamid\": \"SLN\", \"yearid\": 2002, \"schoolid\": \"idbyuid\"}, {\"playerid\": \"stephga01\", \"salary\": 1025000, \"teamid\": \"SLN\", \"yearid\": 2001, \"schoolid\": \"idbyuid\"}, {\"playerid\": \"lindsma01\", \"salary\": 1625000, \"teamid\": \"HOU\", \"yearid\": 2010, \"schoolid\": \"idbyuid\"}, {\"playerid\": \"lindsma01\", \"salary\": 2300000, \"teamid\": \"CHA\", \"yearid\": 2013, \"schoolid\": \"idbyuid\"}, {\"playerid\": \"lindsma01\", \"salary\": 2800000, \"teamid\": \"COL\", \"yearid\": 2011, \"schoolid\": \"idbyuid\"}, {\"playerid\": \"lindsma01\", \"salary\": 3600000, \"teamid\": \"BAL\", \"yearid\": 2012, \"schoolid\": \"idbyuid\"}, {\"playerid\": \"lindsma01\", \"salary\": 4000000, \"teamid\": \"CHA\", \"yearid\": 2014, \"schoolid\": \"idbyuid\"}]}}, {\"mode\": \"vega-lite\"});\n",
       "</script>"
      ],
      "text/plain": [
       "alt.Chart(...)"
      ]
     },
     "execution_count": 3,
     "metadata": {},
     "output_type": "execute_result"
    }
   ],
   "source": [
    "(alt.Chart(q1_table)\n",
    "    .mark_bar(color='#98AC5D', opacity=0.8)\n",
    "    .encode(x = alt.X('salary', axis=alt.Axis(title='Salary')),\n",
    "        y = alt.Y('playerid', axis=alt.Axis(title='Player ID'))\n",
    "        )\n",
    "    .properties(\n",
    "        title = {'text': 'BYU-I Baseball Players Salaries'}\n",
    "    )    \n",
    ")"
   ]
  },
  {
   "cell_type": "markdown",
   "metadata": {},
   "source": [
    "## Question 2"
   ]
  },
  {
   "cell_type": "markdown",
   "metadata": {},
   "source": [
    "### q2a "
   ]
  },
  {
   "cell_type": "code",
   "execution_count": 14,
   "metadata": {},
   "outputs": [
    {
     "name": "stdout",
     "output_type": "stream",
     "text": [
      "|    | playerid   |   yearid |   batting_av |\n",
      "|---:|:-----------|---------:|-------------:|\n",
      "|  0 | abernte02  |     1960 |            1 |\n",
      "|  1 | abramge01  |     1923 |            1 |\n",
      "|  2 | acklefr01  |     1964 |            1 |\n",
      "|  3 | alanirj01  |     2019 |            1 |\n",
      "|  4 | alberan01  |     2017 |            1 |\n"
     ]
    }
   ],
   "source": [
    "q2a = dw.query('byuidss/cse-250-baseball-database', \n",
    "'''\n",
    "SELECT batting.playerid, batting.yearid, (batting.h / batting.ab) AS batting_av \n",
    "FROM batting\n",
    "WHERE batting.ab >= 1\n",
    "GROUP BY batting.playerid, batting.yearid\n",
    "ORDER BY batting_av DESC, batting.playerid\n",
    "LIMIT 5\n",
    "''')\n",
    "print(q2a.dataframe.to_markdown())\n"
   ]
  },
  {
   "cell_type": "markdown",
   "metadata": {},
   "source": [
    "### q2b"
   ]
  },
  {
   "cell_type": "code",
   "execution_count": 13,
   "metadata": {},
   "outputs": [
    {
     "name": "stdout",
     "output_type": "stream",
     "text": [
      "|    | playerid   |   yearid |   batting_av |\n",
      "|---:|:-----------|---------:|-------------:|\n",
      "|  0 | nymanny01  |     1974 |     0.642857 |\n",
      "|  1 | carsoma01  |     2013 |     0.636364 |\n",
      "|  2 | altizda01  |     1910 |     0.6      |\n",
      "|  3 | silvech01  |     1948 |     0.571429 |\n",
      "|  4 | puccige01  |     1930 |     0.5625   |\n"
     ]
    }
   ],
   "source": [
    "q2b = dw.query('byuidss/cse-250-baseball-database', \n",
    "'''\n",
    "SELECT batting.playerid, batting.yearid, (batting.h / batting.ab) AS batting_av \n",
    "FROM batting\n",
    "WHERE batting.ab >= 10\n",
    "GROUP BY batting.playerid, batting.yearid\n",
    "ORDER BY batting_av DESC, batting.playerid\n",
    "LIMIT 5\n",
    "''')\n",
    "print(q2b.dataframe.to_markdown())"
   ]
  },
  {
   "cell_type": "markdown",
   "metadata": {},
   "source": [
    "### q2c"
   ]
  },
  {
   "cell_type": "code",
   "execution_count": 12,
   "metadata": {},
   "outputs": [
    {
     "name": "stdout",
     "output_type": "stream",
     "text": [
      "|    | playerid   |   batting_av |\n",
      "|---:|:-----------|-------------:|\n",
      "|  0 | cobbty01   |     0.366299 |\n",
      "|  1 | barnero01  |     0.359682 |\n",
      "|  2 | hornsro01  |     0.358497 |\n",
      "|  3 | jacksjo01  |     0.355752 |\n",
      "|  4 | meyerle01  |     0.355509 |\n"
     ]
    }
   ],
   "source": [
    "q2c = dw.query('byuidss/cse-250-baseball-database', \n",
    "'''\n",
    "SELECT batting.playerid, (sum(batting.h) / sum(batting.ab)) AS batting_av \n",
    "FROM batting\n",
    "GROUP BY batting.playerid\n",
    "HAVING sum(batting.ab) >= 100\n",
    "ORDER BY batting_av DESC, batting.playerid \n",
    "LIMIT 5\n",
    "''')\n",
    "print(q2c.dataframe.to_markdown())"
   ]
  },
  {
   "cell_type": "markdown",
   "metadata": {},
   "source": [
    "## Question 3"
   ]
  },
  {
   "cell_type": "markdown",
   "metadata": {},
   "source": [
    "### Seattle Mariners (SEA) vs. Atlanta Braves (ATL)"
   ]
  },
  {
   "cell_type": "code",
   "execution_count": 7,
   "metadata": {},
   "outputs": [
    {
     "name": "stdout",
     "output_type": "stream",
     "text": [
      "|    | teamidwinner   |   total_wins |\n",
      "|---:|:---------------|-------------:|\n",
      "|  0 | ATL            |           42 |\n",
      "|  1 | SEA            |            9 |\n"
     ]
    }
   ],
   "source": [
    "q3_query = dw.query('byuidss/cse-250-baseball-database', \n",
    "'''\n",
    "SELECT SeriesPost.teamidwinner, SUM(SeriesPost.wins) AS total_wins\n",
    "FROM SeriesPost\n",
    "WHERE SeriesPost.teamidwinner = \"ATL\" OR SeriesPost.teamidwinner = \"SEA\"\n",
    "GROUP BY SeriesPost.teamidwinner\n",
    "ORDER BY SeriesPost.teamidwinner\n",
    "''')\n",
    "q3_table = q3_query.dataframe\n",
    "print(q3_table.to_markdown())\n",
    "#  SUM(SeriesPost.losses) AS total_losses, SUM(SeriesPost.ties) AS total_ties"
   ]
  },
  {
   "cell_type": "code",
   "execution_count": 8,
   "metadata": {},
   "outputs": [
    {
     "name": "stdout",
     "output_type": "stream",
     "text": [
      "|    | teamidloser   |   total_losses |\n",
      "|---:|:--------------|---------------:|\n",
      "|  0 | ATL           |             26 |\n",
      "|  1 | SEA           |              6 |\n"
     ]
    }
   ],
   "source": [
    "q3_query2 = dw.query('byuidss/cse-250-baseball-database', \n",
    "'''\n",
    "SELECT SeriesPost.teamidloser, SUM(SeriesPost.losses) AS total_losses\n",
    "FROM SeriesPost\n",
    "WHERE SeriesPost.teamidloser = \"ATL\" OR SeriesPost.teamidloser = \"SEA\"\n",
    "GROUP BY SeriesPost.teamidloser\n",
    "ORDER BY SeriesPost.teamidloser\n",
    "''')\n",
    "q3_table2 = q3_query2.dataframe\n",
    "print(q3_table2.to_markdown())"
   ]
  },
  {
   "cell_type": "code",
   "execution_count": 9,
   "metadata": {},
   "outputs": [
    {
     "data": {
      "text/html": [
       "\n",
       "<div id=\"altair-viz-44488a9e4eb3458480e8f0d9ba600b16\"></div>\n",
       "<script type=\"text/javascript\">\n",
       "  (function(spec, embedOpt){\n",
       "    let outputDiv = document.currentScript.previousElementSibling;\n",
       "    if (outputDiv.id !== \"altair-viz-44488a9e4eb3458480e8f0d9ba600b16\") {\n",
       "      outputDiv = document.getElementById(\"altair-viz-44488a9e4eb3458480e8f0d9ba600b16\");\n",
       "    }\n",
       "    const paths = {\n",
       "      \"vega\": \"https://cdn.jsdelivr.net/npm//vega@5?noext\",\n",
       "      \"vega-lib\": \"https://cdn.jsdelivr.net/npm//vega-lib?noext\",\n",
       "      \"vega-lite\": \"https://cdn.jsdelivr.net/npm//vega-lite@4.8.1?noext\",\n",
       "      \"vega-embed\": \"https://cdn.jsdelivr.net/npm//vega-embed@6?noext\",\n",
       "    };\n",
       "\n",
       "    function loadScript(lib) {\n",
       "      return new Promise(function(resolve, reject) {\n",
       "        var s = document.createElement('script');\n",
       "        s.src = paths[lib];\n",
       "        s.async = true;\n",
       "        s.onload = () => resolve(paths[lib]);\n",
       "        s.onerror = () => reject(`Error loading script: ${paths[lib]}`);\n",
       "        document.getElementsByTagName(\"head\")[0].appendChild(s);\n",
       "      });\n",
       "    }\n",
       "\n",
       "    function showError(err) {\n",
       "      outputDiv.innerHTML = `<div class=\"error\" style=\"color:red;\">${err}</div>`;\n",
       "      throw err;\n",
       "    }\n",
       "\n",
       "    function displayChart(vegaEmbed) {\n",
       "      vegaEmbed(outputDiv, spec, embedOpt)\n",
       "        .catch(err => showError(`Javascript Error: ${err.message}<br>This usually means there's a typo in your chart specification. See the javascript console for the full traceback.`));\n",
       "    }\n",
       "\n",
       "    if(typeof define === \"function\" && define.amd) {\n",
       "      requirejs.config({paths});\n",
       "      require([\"vega-embed\"], displayChart, err => showError(`Error loading script: ${err.message}`));\n",
       "    } else if (typeof vegaEmbed === \"function\") {\n",
       "      displayChart(vegaEmbed);\n",
       "    } else {\n",
       "      loadScript(\"vega\")\n",
       "        .then(() => loadScript(\"vega-lite\"))\n",
       "        .then(() => loadScript(\"vega-embed\"))\n",
       "        .catch(showError)\n",
       "        .then(() => displayChart(vegaEmbed));\n",
       "    }\n",
       "  })({\"config\": {\"view\": {\"continuousWidth\": 400, \"continuousHeight\": 300}}, \"data\": {\"name\": \"data-1d3a1dcc47acf21c01a617ebbab57402\"}, \"mark\": {\"type\": \"bar\", \"color\": \"#9a031e\", \"opacity\": 0.8}, \"encoding\": {\"x\": {\"type\": \"nominal\", \"axis\": {\"title\": \"Team ID\"}, \"field\": \"teamidwinner\"}, \"y\": {\"type\": \"quantitative\", \"axis\": {\"title\": \"Total Wins\"}, \"field\": \"total_wins\"}}, \"height\": 100, \"title\": {\"text\": \"Baseball Teams Wins\", \"subtitle\": \"Seattle Mariners (SEA) vs. Atlanta Braves (ATL)\"}, \"width\": 100, \"$schema\": \"https://vega.github.io/schema/vega-lite/v4.8.1.json\", \"datasets\": {\"data-1d3a1dcc47acf21c01a617ebbab57402\": [{\"teamidwinner\": \"ATL\", \"total_wins\": 42}, {\"teamidwinner\": \"SEA\", \"total_wins\": 9}]}}, {\"mode\": \"vega-lite\"});\n",
       "</script>"
      ],
      "text/plain": [
       "alt.Chart(...)"
      ]
     },
     "execution_count": 9,
     "metadata": {},
     "output_type": "execute_result"
    }
   ],
   "source": [
    "(alt.Chart(q3_table)\n",
    "    .mark_bar(color=\"#9a031e\", opacity=0.8)\n",
    "    .encode(x = alt.X('teamidwinner', axis=alt.Axis(title='Team ID')),\n",
    "        y = alt.Y('total_wins', axis=alt.Axis(title='Total Wins'))\n",
    "        )\n",
    "    .properties(\n",
    "        height = 100,\n",
    "        width = 100,\n",
    "        title = {'text': 'Baseball Teams Wins', 'subtitle': 'Seattle Mariners (SEA) vs. Atlanta Braves (ATL)'}\n",
    "    )    \n",
    ")"
   ]
  },
  {
   "cell_type": "code",
   "execution_count": 10,
   "metadata": {},
   "outputs": [
    {
     "data": {
      "text/html": [
       "\n",
       "<div id=\"altair-viz-0e1882f7b97d4bcba7125ff69d0758a8\"></div>\n",
       "<script type=\"text/javascript\">\n",
       "  (function(spec, embedOpt){\n",
       "    let outputDiv = document.currentScript.previousElementSibling;\n",
       "    if (outputDiv.id !== \"altair-viz-0e1882f7b97d4bcba7125ff69d0758a8\") {\n",
       "      outputDiv = document.getElementById(\"altair-viz-0e1882f7b97d4bcba7125ff69d0758a8\");\n",
       "    }\n",
       "    const paths = {\n",
       "      \"vega\": \"https://cdn.jsdelivr.net/npm//vega@5?noext\",\n",
       "      \"vega-lib\": \"https://cdn.jsdelivr.net/npm//vega-lib?noext\",\n",
       "      \"vega-lite\": \"https://cdn.jsdelivr.net/npm//vega-lite@4.8.1?noext\",\n",
       "      \"vega-embed\": \"https://cdn.jsdelivr.net/npm//vega-embed@6?noext\",\n",
       "    };\n",
       "\n",
       "    function loadScript(lib) {\n",
       "      return new Promise(function(resolve, reject) {\n",
       "        var s = document.createElement('script');\n",
       "        s.src = paths[lib];\n",
       "        s.async = true;\n",
       "        s.onload = () => resolve(paths[lib]);\n",
       "        s.onerror = () => reject(`Error loading script: ${paths[lib]}`);\n",
       "        document.getElementsByTagName(\"head\")[0].appendChild(s);\n",
       "      });\n",
       "    }\n",
       "\n",
       "    function showError(err) {\n",
       "      outputDiv.innerHTML = `<div class=\"error\" style=\"color:red;\">${err}</div>`;\n",
       "      throw err;\n",
       "    }\n",
       "\n",
       "    function displayChart(vegaEmbed) {\n",
       "      vegaEmbed(outputDiv, spec, embedOpt)\n",
       "        .catch(err => showError(`Javascript Error: ${err.message}<br>This usually means there's a typo in your chart specification. See the javascript console for the full traceback.`));\n",
       "    }\n",
       "\n",
       "    if(typeof define === \"function\" && define.amd) {\n",
       "      requirejs.config({paths});\n",
       "      require([\"vega-embed\"], displayChart, err => showError(`Error loading script: ${err.message}`));\n",
       "    } else if (typeof vegaEmbed === \"function\") {\n",
       "      displayChart(vegaEmbed);\n",
       "    } else {\n",
       "      loadScript(\"vega\")\n",
       "        .then(() => loadScript(\"vega-lite\"))\n",
       "        .then(() => loadScript(\"vega-embed\"))\n",
       "        .catch(showError)\n",
       "        .then(() => displayChart(vegaEmbed));\n",
       "    }\n",
       "  })({\"config\": {\"view\": {\"continuousWidth\": 400, \"continuousHeight\": 300}}, \"data\": {\"name\": \"data-0fa1683ab760c2a7f244d31a4ed865b7\"}, \"mark\": {\"type\": \"bar\", \"color\": \"blue\", \"opacity\": 0.8}, \"encoding\": {\"x\": {\"type\": \"nominal\", \"axis\": {\"title\": \"Team ID\"}, \"field\": \"teamidloser\"}, \"y\": {\"type\": \"quantitative\", \"axis\": {\"title\": \"Total Losses\"}, \"field\": \"total_losses\"}}, \"height\": 100, \"title\": {\"text\": \"Baseball Teams Losses\", \"subtitle\": \"Seattle Mariners (SEA) vs. Atlanta Braves (ATL)\"}, \"width\": 100, \"$schema\": \"https://vega.github.io/schema/vega-lite/v4.8.1.json\", \"datasets\": {\"data-0fa1683ab760c2a7f244d31a4ed865b7\": [{\"teamidloser\": \"ATL\", \"total_losses\": 26}, {\"teamidloser\": \"SEA\", \"total_losses\": 6}]}}, {\"mode\": \"vega-lite\"});\n",
       "</script>"
      ],
      "text/plain": [
       "alt.Chart(...)"
      ]
     },
     "execution_count": 10,
     "metadata": {},
     "output_type": "execute_result"
    }
   ],
   "source": [
    "(alt.Chart(q3_table2)\n",
    "    .mark_bar(color=\"blue\", opacity=0.8)\n",
    "    .encode(x = alt.X('teamidloser', axis=alt.Axis(title='Team ID')),\n",
    "        y = alt.Y('total_losses', axis=alt.Axis(title='Total Losses'))\n",
    "        )\n",
    "    .properties(\n",
    "        height = 100,\n",
    "        width = 100,\n",
    "        title = {'text': 'Baseball Teams Losses', 'subtitle': 'Seattle Mariners (SEA) vs. Atlanta Braves (ATL)'}\n",
    "    )    \n",
    ")"
   ]
  }
 ],
 "metadata": {
  "interpreter": {
   "hash": "de9535f006a0634b9bf196f8949358539334682544f01afd5564e4c2ba45ce65"
  },
  "kernelspec": {
   "display_name": "Python 3.9.7 64-bit",
   "name": "python3"
  },
  "language_info": {
   "codemirror_mode": {
    "name": "ipython",
    "version": 3
   },
   "file_extension": ".py",
   "mimetype": "text/x-python",
   "name": "python",
   "nbconvert_exporter": "python",
   "pygments_lexer": "ipython3",
   "version": "3.9.7"
  },
  "orig_nbformat": 4
 },
 "nbformat": 4,
 "nbformat_minor": 2
}
