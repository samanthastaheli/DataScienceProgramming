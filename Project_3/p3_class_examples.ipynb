{
 "cells": [
  {
   "cell_type": "markdown",
   "metadata": {},
   "source": [
    "# Project 3 Notes"
   ]
  },
  {
   "cell_type": "code",
   "execution_count": 4,
   "metadata": {},
   "outputs": [],
   "source": [
    "import datadotworld as dw"
   ]
  },
  {
   "cell_type": "markdown",
   "metadata": {},
   "source": [
    "## Baseball DB"
   ]
  },
  {
   "cell_type": "markdown",
   "metadata": {},
   "source": [
    "- AB = at bats\n",
    "- H = hits\n",
    "- avergae = H/AB\n",
    "- "
   ]
  },
  {
   "cell_type": "code",
   "execution_count": 5,
   "metadata": {},
   "outputs": [
    {
     "data": {
      "text/html": [
       "<div>\n",
       "<style scoped>\n",
       "    .dataframe tbody tr th:only-of-type {\n",
       "        vertical-align: middle;\n",
       "    }\n",
       "\n",
       "    .dataframe tbody tr th {\n",
       "        vertical-align: top;\n",
       "    }\n",
       "\n",
       "    .dataframe thead th {\n",
       "        text-align: right;\n",
       "    }\n",
       "</style>\n",
       "<table border=\"1\" class=\"dataframe\">\n",
       "  <thead>\n",
       "    <tr style=\"text-align: right;\">\n",
       "      <th></th>\n",
       "      <th>playerid</th>\n",
       "      <th>yearid</th>\n",
       "      <th>stint</th>\n",
       "      <th>teamid</th>\n",
       "      <th>lgid</th>\n",
       "      <th>g</th>\n",
       "      <th>ab</th>\n",
       "      <th>r</th>\n",
       "      <th>h</th>\n",
       "      <th>2b</th>\n",
       "      <th>...</th>\n",
       "      <th>rbi</th>\n",
       "      <th>sb</th>\n",
       "      <th>cs</th>\n",
       "      <th>bb</th>\n",
       "      <th>so</th>\n",
       "      <th>ibb</th>\n",
       "      <th>hbp</th>\n",
       "      <th>sh</th>\n",
       "      <th>sf</th>\n",
       "      <th>gidp</th>\n",
       "    </tr>\n",
       "  </thead>\n",
       "  <tbody>\n",
       "    <tr>\n",
       "      <th>0</th>\n",
       "      <td>aberal01</td>\n",
       "      <td>1957</td>\n",
       "      <td>1</td>\n",
       "      <td>DET</td>\n",
       "      <td>AL</td>\n",
       "      <td>28</td>\n",
       "      <td>8</td>\n",
       "      <td>0</td>\n",
       "      <td>1</td>\n",
       "      <td>0</td>\n",
       "      <td>...</td>\n",
       "      <td>1</td>\n",
       "      <td>0</td>\n",
       "      <td>0</td>\n",
       "      <td>1</td>\n",
       "      <td>4</td>\n",
       "      <td>0</td>\n",
       "      <td>0</td>\n",
       "      <td>0</td>\n",
       "      <td>0</td>\n",
       "      <td>0</td>\n",
       "    </tr>\n",
       "    <tr>\n",
       "      <th>1</th>\n",
       "      <td>aberal01</td>\n",
       "      <td>1957</td>\n",
       "      <td>2</td>\n",
       "      <td>KC1</td>\n",
       "      <td>AL</td>\n",
       "      <td>3</td>\n",
       "      <td>1</td>\n",
       "      <td>0</td>\n",
       "      <td>1</td>\n",
       "      <td>0</td>\n",
       "      <td>...</td>\n",
       "      <td>0</td>\n",
       "      <td>0</td>\n",
       "      <td>0</td>\n",
       "      <td>0</td>\n",
       "      <td>0</td>\n",
       "      <td>0</td>\n",
       "      <td>0</td>\n",
       "      <td>0</td>\n",
       "      <td>0</td>\n",
       "      <td>0</td>\n",
       "    </tr>\n",
       "  </tbody>\n",
       "</table>\n",
       "<p>2 rows × 22 columns</p>\n",
       "</div>"
      ],
      "text/plain": [
       "   playerid  yearid  stint teamid lgid   g  ab  r  h  2b  ...  rbi  sb  cs  \\\n",
       "0  aberal01    1957      1    DET   AL  28   8  0  1   0  ...    1   0   0   \n",
       "1  aberal01    1957      2    KC1   AL   3   1  0  1   0  ...    0   0   0   \n",
       "\n",
       "   bb  so  ibb  hbp  sh  sf  gidp  \n",
       "0   1   4    0    0   0   0     0  \n",
       "1   0   0    0    0   0   0     0  \n",
       "\n",
       "[2 rows x 22 columns]"
      ]
     },
     "execution_count": 5,
     "metadata": {},
     "output_type": "execute_result"
    }
   ],
   "source": [
    "results = dw.query('byuidss/cse-250-baseball-database', \n",
    "'''\n",
    "SELECT *\n",
    "FROM batting\n",
    "WHERE playerid = \"aberal01\" AND yearid = 1957\n",
    "''')\n",
    "results.dataframe"
   ]
  },
  {
   "cell_type": "code",
   "execution_count": 6,
   "metadata": {},
   "outputs": [
    {
     "name": "stdout",
     "output_type": "stream",
     "text": [
      "        playerid   salary teamid  yearid schoolid\n",
      "0      barkele01   870000    ATL    1985  idbyuid\n",
      "1      bedrost01   550000    ATL    1985  idbyuid\n",
      "2      benedbr01   545000    ATL    1985  idbyuid\n",
      "3       campri01   633333    ATL    1985  idbyuid\n",
      "4      ceronri01   625000    ATL    1985  idbyuid\n",
      "...          ...      ...    ...     ...      ...\n",
      "26423  peralda01   529600    ARI    2016  idbyuid\n",
      "26424  polloaj01  3500000    ARI    2016  idbyuid\n",
      "26425    rayro02   521000    ARI    2016  idbyuid\n",
      "26426  segurje01  2600000    ARI    2016  idbyuid\n",
      "26427  tomasya01  7500000    ARI    2016  idbyuid\n",
      "\n",
      "[26428 rows x 5 columns]\n"
     ]
    }
   ],
   "source": [
    "q1 = dw.query('byuidss/cse-250-baseball-database', \n",
    "'''\n",
    "SELECT salaries.playerid, salaries.salary, salaries.teamid, salaries.yearid, schools.schoolid \n",
    "FROM salaries, schools \n",
    "WHERE schools.schoolid = \"idbyuid\"\n",
    "''')\n",
    "print(q1.dataframe)"
   ]
  },
  {
   "cell_type": "markdown",
   "metadata": {},
   "source": [
    "## SQL Notes"
   ]
  },
  {
   "cell_type": "code",
   "execution_count": null,
   "metadata": {},
   "outputs": [],
   "source": [
    "SELECT playerid, salary\n",
    "FROM salaries\n",
    "  JOIN -- <table name>\n",
    "  ON -- <columns to join>\n",
    "WHERE -- <filter condition>\n",
    "GROUP BY playerid\n",
    "ORDER BY -- <how the output is returned in sequence>\n",
    "LIMIT -- <number of rows to return>"
   ]
  },
  {
   "cell_type": "code",
   "execution_count": null,
   "metadata": {},
   "outputs": [],
   "source": [
    "CREATE TABLE Persons (\n",
    "    PersonID int,\n",
    "    LastName varchar(255),\n",
    "    FirstName varchar(255),\n",
    "    Address varchar(255),\n",
    "    City varchar(255)\n",
    ");"
   ]
  },
  {
   "cell_type": "code",
   "execution_count": null,
   "metadata": {},
   "outputs": [],
   "source": [
    "SELECT *\n",
    "INTO newtable [IN externaldb]\n",
    "FROM oldtable\n",
    "WHERE condition;"
   ]
  },
  {
   "cell_type": "code",
   "execution_count": null,
   "metadata": {},
   "outputs": [],
   "source": [
    "SELECT salaries.playerid,\n",
    "       salaries.salary,\n",
    "       salaries.teamid,\n",
    "       salaries.yearid,\n",
    "       schools.schoolid \n",
    "INTO byui_players [IN externaldb]\n",
    "FROM oldtable\n",
    "WHERE condition;"
   ]
  },
  {
   "cell_type": "code",
   "execution_count": null,
   "metadata": {},
   "outputs": [],
   "source": [
    "SELECT salaries.playerid,\n",
    "       salaries.salary,\n",
    "       salaries.teamid,\n",
    "       salaries.yearid,\n",
    "       schools.schoolid \n",
    "FROM salaries, schools\n",
    "WHERE (schools.schoolid = \"idbyuid\");"
   ]
  },
  {
   "cell_type": "code",
   "execution_count": null,
   "metadata": {},
   "outputs": [],
   "source": [
    "Select salaries.playerid, salaries.salary, salaries.teamid, salaries.yearid, schools.schoolid into byui_players from salaries WHERE (schools.schoolid = \"idbyuid\");"
   ]
  }
 ],
 "metadata": {
  "interpreter": {
   "hash": "de9535f006a0634b9bf196f8949358539334682544f01afd5564e4c2ba45ce65"
  },
  "kernelspec": {
   "display_name": "Python 3.9.7 64-bit",
   "name": "python3"
  },
  "language_info": {
   "codemirror_mode": {
    "name": "ipython",
    "version": 3
   },
   "file_extension": ".py",
   "mimetype": "text/x-python",
   "name": "python",
   "nbconvert_exporter": "python",
   "pygments_lexer": "ipython3",
   "version": "3.9.7"
  },
  "orig_nbformat": 4
 },
 "nbformat": 4,
 "nbformat_minor": 2
}
