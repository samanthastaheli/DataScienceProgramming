{
 "cells": [
  {
   "cell_type": "code",
   "execution_count": 1,
   "metadata": {},
   "outputs": [],
   "source": [
    "import pandas as pd\n",
    "import altair as alt\n",
    "import numpy as np "
   ]
  },
  {
   "cell_type": "code",
   "execution_count": 2,
   "metadata": {},
   "outputs": [],
   "source": [
    "url = 'https://raw.githubusercontent.com/fivethirtyeight/data/master/star-wars-survey/StarWars.csv'\n",
    "sw_responses = pd.read_csv(url, encoding='ISO-8859-1', header=None, skiprows=2) # skips first 2 rows\n",
    "sw_questions = pd.read_csv(url, encoding='ISO-8859-1', header=None, nrows=2) # reads in first 2 rows"
   ]
  },
  {
   "cell_type": "markdown",
   "metadata": {},
   "source": [
    "## checkpoint"
   ]
  },
  {
   "cell_type": "code",
   "execution_count": 40,
   "metadata": {},
   "outputs": [
    {
     "data": {
      "text/plain": [
       "Yes    0.660287\n",
       "No     0.339713\n",
       "Name: 2, dtype: float64"
      ]
     },
     "execution_count": 40,
     "metadata": {},
     "output_type": "execute_result"
    }
   ],
   "source": [
    "# q1\n",
    "# correct answer: 0.7892 \n",
    "seen_any = sw_responses.iloc[:,2]\n",
    "seen_any.value_counts(normalize=True)"
   ]
  },
  {
   "cell_type": "code",
   "execution_count": 50,
   "metadata": {},
   "outputs": [
    {
     "data": {
      "text/plain": [
       "2    33    \n",
       "Yes  Male      0.369512\n",
       "     Female    0.290244\n",
       "No   Female    0.193902\n",
       "     Male      0.146341\n",
       "dtype: float64"
      ]
     },
     "execution_count": 50,
     "metadata": {},
     "output_type": "execute_result"
    }
   ],
   "source": [
    "#q2\n",
    "# correct answer: 0.8511 \n",
    "gender_dat = sw_responses\n",
    "gender = gender_dat.iloc[:,33]\n",
    "gender.replace('Female', np.nan).dropna()\n",
    "# (sw_responses.query('gender == \"Male\"')\n",
    "#                 .seen_any\n",
    "#                 .value_count(normalize=True)\n",
    "# )\n",
    "gender_yes = gender_dat.iloc[:,[2,33]]\n",
    "gender_yes.value_counts(normalize=True)"
   ]
  },
  {
   "cell_type": "code",
   "execution_count": null,
   "metadata": {},
   "outputs": [],
   "source": [
    "sw_responses.gender.value_counts() # tally up values of that column \n",
    "sw_responses.gender.value_counts(normalize=True) # counts as percentage \n",
    "(sw_responses.query('gender == \"male\"')\n",
    "                .seen_any\n",
    "                .value_count(normalize=True)\n",
    ")\n",
    "\n",
    "sw_responses.query('have_seen_any == \"Yes\"').query('gender == \"Female\"')['fan_sw'].value_counts(dropna=False, normalize=True) "
   ]
  },
  {
   "cell_type": "code",
   "execution_count": null,
   "metadata": {},
   "outputs": [],
   "source": [
    "#q3\n",
    "dat = sw_all\n",
    "dat.dropna(how='all')"
   ]
  },
  {
   "cell_type": "code",
   "execution_count": null,
   "metadata": {},
   "outputs": [],
   "source": [
    "# get_dummies()\n",
    "pd.get_dummies(sw_responses.fan_sw, drop_first=True)"
   ]
  },
  {
   "cell_type": "markdown",
   "metadata": {},
   "source": [
    "q3 goal:\n",
    "- get data ready for q4\n",
    "- q4 is to predict if person who has seen sw makes more than 50k a year\n",
    "\n",
    "todo:\n",
    "- drop people that answer no for seen_any\n",
    "- drop have_seen_any column because it will be all Yes\n",
    "- convert is_fan to 0 and 1's\n",
    "- seen_film (6 columns) convert to 0/1\n",
    "- convert character rating to numbers:\n",
    "    - very UF, UF, UNF(unfamilar), netral, favor, very F\n",
    "    - 0, 1, 2, 3, 4, 5 **probs best one\n",
    "    - -3, -2, -1, 0, 1, 2\n",
    "    - 0, 1, 2, 4, 8, 16\n",
    "- create new columns for each character rating: (one-hot encoding)\n",
    "    - c3po_vuf, c3po_uf, c3po_unf c3po_n, c3po_f, c3po_vf\n",
    "    - if answer is favorable change to:\n",
    "    - 0, 0, 0, 0, 1, 0\n",
    "- pd.get_dummies()\n",
    "- pd.factorize()\n",
    "- convert age range to one num\n",
    "    - use first or last num?\n",
    "    - min, max, or mean\n",
    "    - 18-29, 20-44, 45-60, > 60\n",
    "    - use min because would be consistent with greater than 60\n",
    "    - all ages would mean greater than\n",
    "- edu\n",
    "    - turn into number of years?\n",
    "    - High school degree = 12\n",
    "    - Some college or associate = 14\n",
    "    - Bachlor = 16\n",
    "    - Gradute degree = 20\n",
    "- location"
   ]
  }
 ],
 "metadata": {
  "interpreter": {
   "hash": "de9535f006a0634b9bf196f8949358539334682544f01afd5564e4c2ba45ce65"
  },
  "kernelspec": {
   "display_name": "Python 3.9.7 64-bit",
   "language": "python",
   "name": "python3"
  },
  "language_info": {
   "codemirror_mode": {
    "name": "ipython",
    "version": 3
   },
   "file_extension": ".py",
   "mimetype": "text/x-python",
   "name": "python",
   "nbconvert_exporter": "python",
   "pygments_lexer": "ipython3",
   "version": "3.9.7"
  },
  "orig_nbformat": 4
 },
 "nbformat": 4,
 "nbformat_minor": 2
}
